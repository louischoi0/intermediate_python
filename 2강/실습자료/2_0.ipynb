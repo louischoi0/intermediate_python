{
 "cells": [
  {
   "cell_type": "markdown",
   "id": "856a311d",
   "metadata": {},
   "source": [
    "# 넘파이 라이브러리 사용해보기\n",
    "---\n",
    "\n",
    "The fundamental package for scientific computing with Python.\n",
    "\n",
    "넘파이는 파이썬 코드를 통해 여러가지 수학 연산을 빠르게 수행하는 라이브러리입니다.\n",
    "\n",
    "![](https://files.slack.com/files-tmb/T02R0SULCUC-F03SM5BU6FM-52b28f48f0/image_720.png)"
   ]
  },
  {
   "cell_type": "markdown",
   "id": "03bfd5a6",
   "metadata": {},
   "source": [
    "# 넘파이 초기화 함수들"
   ]
  },
  {
   "cell_type": "code",
   "execution_count": 2,
   "id": "dd3b7ac5",
   "metadata": {},
   "outputs": [
    {
     "data": {
      "text/plain": [
       "array([1, 2, 3])"
      ]
     },
     "execution_count": 2,
     "metadata": {},
     "output_type": "execute_result"
    }
   ],
   "source": [
    "import numpy as np\n",
    "\n",
    "# numpy array를 생성합니다.\n",
    "a = np.array([1,2,3])\n",
    "a"
   ]
  },
  {
   "cell_type": "code",
   "execution_count": 3,
   "id": "5da3ec2f",
   "metadata": {},
   "outputs": [
    {
     "data": {
      "text/plain": [
       "array([[[0., 0., 0., 0.],\n",
       "        [0., 0., 0., 0.],\n",
       "        [0., 0., 0., 0.]],\n",
       "\n",
       "       [[0., 0., 0., 0.],\n",
       "        [0., 0., 0., 0.],\n",
       "        [0., 0., 0., 0.]]])"
      ]
     },
     "execution_count": 3,
     "metadata": {},
     "output_type": "execute_result"
    }
   ],
   "source": [
    "# 넘파이는 벡터 또는 행렬을 초기화 하는 다양한 함수를 제공합니다.\n",
    "\n",
    "# 모든 값이 0인 길이가 3인 벡터(배열)을 생성합니다.\n",
    "np.zeros((2,3,4))"
   ]
  },
  {
   "cell_type": "code",
   "execution_count": 9,
   "id": "8c7ce99b",
   "metadata": {},
   "outputs": [
    {
     "data": {
      "text/plain": [
       "array([[0., 0., 0., 0.],\n",
       "       [0., 0., 0., 0.],\n",
       "       [0., 0., 0., 0.],\n",
       "       [0., 0., 0., 0.]])"
      ]
     },
     "execution_count": 9,
     "metadata": {},
     "output_type": "execute_result"
    }
   ],
   "source": [
    "# 모든 값이 0을 가지는 4 * 4 행렬을 생성합니다.\n",
    "np.zeros([4, 4])"
   ]
  },
  {
   "cell_type": "code",
   "execution_count": 10,
   "id": "0f08f53e",
   "metadata": {},
   "outputs": [
    {
     "data": {
      "text/plain": [
       "array([1., 1., 1., 1., 1.])"
      ]
     },
     "execution_count": 10,
     "metadata": {},
     "output_type": "execute_result"
    }
   ],
   "source": [
    "# 모든 값이 1을 가지는 배열을 생성합니다.\n",
    "\n",
    "np.ones(5)"
   ]
  },
  {
   "cell_type": "code",
   "execution_count": 5,
   "id": "76130dff",
   "metadata": {},
   "outputs": [
    {
     "data": {
      "text/plain": [
       "array([1, 3, 5, 7, 9])"
      ]
     },
     "execution_count": 5,
     "metadata": {},
     "output_type": "execute_result"
    }
   ],
   "source": [
    "# 값이 순차적으로 증가하는 배열을 생성합니다.\n",
    "\n",
    "np.arange(1,10,2)"
   ]
  },
  {
   "cell_type": "code",
   "execution_count": 14,
   "id": "cb338a9d",
   "metadata": {},
   "outputs": [
    {
     "data": {
      "text/plain": [
       "array([[1., 0., 0., 0.],\n",
       "       [0., 1., 0., 0.],\n",
       "       [0., 0., 1., 0.],\n",
       "       [0., 0., 0., 1.]])"
      ]
     },
     "execution_count": 14,
     "metadata": {},
     "output_type": "execute_result"
    }
   ],
   "source": [
    "# 4 * 4 단위 행렬을 eye 함수를 통해 생성할 수 있습니다.\n",
    "\n",
    "np.eye(4)"
   ]
  },
  {
   "cell_type": "code",
   "execution_count": 6,
   "id": "18ffe39d",
   "metadata": {},
   "outputs": [
    {
     "data": {
      "text/plain": [
       "array([[0.93206739, 0.52632034, 0.16744783, 0.95898821],\n",
       "       [0.60075612, 0.5119931 , 0.41488101, 0.54103641],\n",
       "       [0.22563012, 0.47644088, 0.34743383, 0.02808083],\n",
       "       [0.01669669, 0.56379348, 0.70404005, 0.02138935]])"
      ]
     },
     "execution_count": 6,
     "metadata": {},
     "output_type": "execute_result"
    }
   ],
   "source": [
    "# 0 ~ 1 사이의 임의값을 가지는 4 * 4 행렬을 생성합니다.\n",
    "np.random.random([4,4])"
   ]
  },
  {
   "cell_type": "markdown",
   "id": "922a3a47",
   "metadata": {},
   "source": [
    "# 여러가지 넘파이 연산 함수들"
   ]
  },
  {
   "cell_type": "code",
   "execution_count": 19,
   "id": "f53171d1",
   "metadata": {},
   "outputs": [
    {
     "data": {
      "text/plain": [
       "array([[2, 0],\n",
       "       [0, 4]])"
      ]
     },
     "execution_count": 19,
     "metadata": {},
     "output_type": "execute_result"
    }
   ],
   "source": [
    "import numpy as np\n",
    "\n",
    "A = np.array([[1, 1],\n",
    "              [0, 1]])\n",
    "\n",
    "B = np.array([[2, 0],\n",
    "              [3, 4]])\n",
    "\n",
    "# *을 통해 원소별 곱셈 연산을 수행할 수 있습니다.\n",
    "A * B"
   ]
  },
  {
   "cell_type": "code",
   "execution_count": 20,
   "id": "027fccff",
   "metadata": {},
   "outputs": [
    {
     "data": {
      "text/plain": [
       "array([[5, 4],\n",
       "       [3, 4]])"
      ]
     },
     "execution_count": 20,
     "metadata": {},
     "output_type": "execute_result"
    }
   ],
   "source": [
    "import numpy as np\n",
    "\n",
    "A = np.array([[1, 1],\n",
    "              [0, 1]])\n",
    "\n",
    "B = np.array([[2, 0],\n",
    "              [3, 4]])\n",
    "\n",
    "# @ 를 통해 행렬곱 연산을 수행할 수 있습니다.\n",
    "A @ B"
   ]
  },
  {
   "cell_type": "code",
   "execution_count": 21,
   "id": "56284e88",
   "metadata": {},
   "outputs": [
    {
     "data": {
      "text/plain": [
       "array([[5, 4],\n",
       "       [3, 4]])"
      ]
     },
     "execution_count": 21,
     "metadata": {},
     "output_type": "execute_result"
    }
   ],
   "source": [
    "# @ 연산은 np.dot 함수와 동일합니다.\n",
    "np.dot(A,B)"
   ]
  },
  {
   "cell_type": "code",
   "execution_count": 10,
   "id": "499b0c70",
   "metadata": {},
   "outputs": [
    {
     "data": {
      "text/plain": [
       "array([[1., 2., 3.],\n",
       "       [4., 5., 6.],\n",
       "       [7., 8., 9.]])"
      ]
     },
     "execution_count": 10,
     "metadata": {},
     "output_type": "execute_result"
    }
   ],
   "source": [
    "A = np.arange(1,10).reshape((3,3))\n",
    "A @ np.eye(3)"
   ]
  },
  {
   "cell_type": "markdown",
   "id": "e83f0e99",
   "metadata": {},
   "source": [
    "# Dot 함수 응용해보기\n",
    "---\n",
    "\n",
    "오늘 환율은 아래와 같습니다.\n",
    "\n",
    "달러: 1295원  \n",
    "유로: 1325원  \n",
    "엔:   9.63원   \n",
    "\n",
    "달러: 1305\n",
    "유로: 1335\n",
    "엔: 9.73\n",
    "\n",
    "만약 필요한 외화가 아래와 같다면 환전 총 금액은 얼마일까요? DOT함수를 활용해 봅시다.\n",
    "\n",
    "달러: 190  \n",
    "유로: 200  \n",
    "엔:   40000  "
   ]
  },
  {
   "cell_type": "markdown",
   "id": "a500363c",
   "metadata": {},
   "source": [
    "내일 환전 금액은 아래와 같습니다.  \n",
    "  \n",
    "달러: 1299원  \n",
    "유로: 1332원  \n",
    "엔:   9.8원  "
   ]
  },
  {
   "cell_type": "code",
   "execution_count": 19,
   "id": "b7447b9d",
   "metadata": {},
   "outputs": [
    {
     "data": {
      "text/plain": [
       "array([896250., 905210.])"
      ]
     },
     "execution_count": 19,
     "metadata": {},
     "output_type": "execute_result"
    }
   ],
   "source": [
    "import numpy as np\n",
    "\n",
    "a = np.array([[1295,1325,9.63], [1299, 1332, 9.8]])\n",
    "b = np.array([190,200,40000])\n",
    "\n",
    "c = np.dot(a,b)\n",
    "b @ a.T"
   ]
  },
  {
   "cell_type": "code",
   "execution_count": 115,
   "id": "131d2cef",
   "metadata": {},
   "outputs": [
    {
     "data": {
      "text/plain": [
       "array([896250., 904150.])"
      ]
     },
     "execution_count": 115,
     "metadata": {},
     "output_type": "execute_result"
    }
   ],
   "source": [
    "import numpy as np\n",
    "\n",
    "a = np.array([[1295,1325,9.63],\n",
    "              [1305,1335,9.73]])\n",
    "\n",
    "b = np.array([190,200,40000])\n",
    "\n",
    "c = np.dot(a,b)\n",
    "c"
   ]
  },
  {
   "cell_type": "code",
   "execution_count": 118,
   "id": "a258ca5a",
   "metadata": {},
   "outputs": [
    {
     "data": {
      "text/plain": [
       "array([[905212.5, 913191.5],\n",
       "       [914175. , 922233. ]])"
      ]
     },
     "execution_count": 118,
     "metadata": {},
     "output_type": "execute_result"
    }
   ],
   "source": [
    "d = c.reshape((2,1)) * np.array([1.01,1.02])\n",
    "d.T"
   ]
  },
  {
   "cell_type": "code",
   "execution_count": 122,
   "id": "df8344c6",
   "metadata": {},
   "outputs": [
    {
     "data": {
      "text/plain": [
       "array([[905213., 914175.],\n",
       "       [913192., 922233.]])"
      ]
     },
     "execution_count": 122,
     "metadata": {},
     "output_type": "execute_result"
    }
   ],
   "source": [
    "np.ceil(d)"
   ]
  },
  {
   "cell_type": "code",
   "execution_count": null,
   "id": "06dde834",
   "metadata": {},
   "outputs": [],
   "source": []
  },
  {
   "cell_type": "code",
   "execution_count": null,
   "id": "3a8693f6",
   "metadata": {},
   "outputs": [],
   "source": []
  },
  {
   "cell_type": "code",
   "execution_count": null,
   "id": "7b6d2aba",
   "metadata": {},
   "outputs": [],
   "source": []
  },
  {
   "cell_type": "code",
   "execution_count": 109,
   "id": "6e1b07e7",
   "metadata": {},
   "outputs": [
    {
     "data": {
      "text/plain": [
       "array([[905212.5, 914175. ],\n",
       "       [913191.5, 922233. ]])"
      ]
     },
     "execution_count": 109,
     "metadata": {},
     "output_type": "execute_result"
    }
   ],
   "source": [
    "(a @ b).reshape(2,1) * np.array([1.01,1.02])"
   ]
  },
  {
   "cell_type": "code",
   "execution_count": 99,
   "id": "4e3906f3",
   "metadata": {},
   "outputs": [
    {
     "data": {
      "text/plain": [
       "array([[905212.5, 914175. ],\n",
       "       [913191.5, 922233. ]])"
      ]
     },
     "execution_count": 99,
     "metadata": {},
     "output_type": "execute_result"
    }
   ],
   "source": [
    "( a @ b * np.array([1.01, 1.02]).reshape(2,1) ).T"
   ]
  },
  {
   "cell_type": "code",
   "execution_count": 92,
   "id": "ea8a4250",
   "metadata": {},
   "outputs": [
    {
     "data": {
      "text/plain": [
       "array([[1.01],\n",
       "       [1.02]])"
      ]
     },
     "execution_count": 92,
     "metadata": {},
     "output_type": "execute_result"
    }
   ],
   "source": [
    "np.array([1.01,1.02]).reshape(2,1)"
   ]
  },
  {
   "cell_type": "code",
   "execution_count": 106,
   "id": "f116a03f",
   "metadata": {},
   "outputs": [
    {
     "data": {
      "text/plain": [
       "array([[1.01],\n",
       "       [1.02]])"
      ]
     },
     "execution_count": 106,
     "metadata": {},
     "output_type": "execute_result"
    }
   ],
   "source": [
    "np.array([1.01,1.02]).reshape(2,1)"
   ]
  },
  {
   "cell_type": "code",
   "execution_count": 16,
   "id": "58f5eead",
   "metadata": {},
   "outputs": [
    {
     "data": {
      "text/plain": [
       "array([896250., 904150.])"
      ]
     },
     "execution_count": 16,
     "metadata": {},
     "output_type": "execute_result"
    }
   ],
   "source": [
    "c = a * b\n",
    "c.sum(axis=1)"
   ]
  },
  {
   "cell_type": "code",
   "execution_count": 8,
   "id": "ca19470d",
   "metadata": {},
   "outputs": [
    {
     "data": {
      "text/plain": [
       "896250.0"
      ]
     },
     "execution_count": 8,
     "metadata": {},
     "output_type": "execute_result"
    }
   ],
   "source": [
    "import numpy as np\n",
    "\n",
    "a = np.array([1295,1325,9.63])\n",
    "b = np.array([190,200,40000])\n",
    "\n",
    "a @ b"
   ]
  },
  {
   "cell_type": "code",
   "execution_count": 10,
   "id": "1f98d6d0",
   "metadata": {},
   "outputs": [
    {
     "data": {
      "text/plain": [
       "array([246050., 265000., 385200.])"
      ]
     },
     "execution_count": 10,
     "metadata": {},
     "output_type": "execute_result"
    }
   ],
   "source": [
    "c = a * b\n",
    "c.sum()\n",
    "c"
   ]
  },
  {
   "cell_type": "markdown",
   "id": "356f6c2c",
   "metadata": {},
   "source": [
    "# 넘파이 슬라이싱 알아보기\n",
    "---"
   ]
  },
  {
   "cell_type": "code",
   "execution_count": 22,
   "id": "9feb6085",
   "metadata": {},
   "outputs": [
    {
     "data": {
      "text/plain": [
       "array([[ 1,  2,  3,  4,  5],\n",
       "       [ 6,  7,  8,  9, 10],\n",
       "       [11, 12, 13, 14, 15]])"
      ]
     },
     "execution_count": 22,
     "metadata": {},
     "output_type": "execute_result"
    }
   ],
   "source": [
    "import numpy as np\n",
    "\n",
    "a = np.array([[1,2,3,4,5],\n",
    "         [6,7,8,9,10],\n",
    "         [11,12,13,14,15]])\n",
    "\n",
    "a"
   ]
  },
  {
   "cell_type": "code",
   "execution_count": 23,
   "id": "be90eb79",
   "metadata": {},
   "outputs": [
    {
     "data": {
      "text/plain": [
       "array([[1, 2, 3],\n",
       "       [6, 7, 8]])"
      ]
     },
     "execution_count": 23,
     "metadata": {},
     "output_type": "execute_result"
    }
   ],
   "source": [
    "a[:2, :3]"
   ]
  },
  {
   "cell_type": "code",
   "execution_count": 24,
   "id": "c8e6c68d",
   "metadata": {},
   "outputs": [
    {
     "data": {
      "text/plain": [
       "array([[1, 2, 3],\n",
       "       [6, 7, 8]])"
      ]
     },
     "execution_count": 24,
     "metadata": {},
     "output_type": "execute_result"
    }
   ],
   "source": [
    "a[0:2, 0:3]"
   ]
  },
  {
   "cell_type": "code",
   "execution_count": 21,
   "id": "3b6c0012",
   "metadata": {},
   "outputs": [
    {
     "data": {
      "text/plain": [
       "array([[[ 0,  1,  2],\n",
       "        [ 3,  4,  5],\n",
       "        [ 6,  7,  8]],\n",
       "\n",
       "       [[ 9, 10, 11],\n",
       "        [12, 13, 14],\n",
       "        [15, 16, 17]],\n",
       "\n",
       "       [[18, 19, 20],\n",
       "        [21, 22, 23],\n",
       "        [24, 25, 26]]])"
      ]
     },
     "execution_count": 21,
     "metadata": {},
     "output_type": "execute_result"
    }
   ],
   "source": [
    "import numpy as np\n",
    "\n",
    "b = np.arange(27).reshape([3,3,3])\n",
    "b"
   ]
  },
  {
   "cell_type": "code",
   "execution_count": 25,
   "id": "b89e01b1",
   "metadata": {},
   "outputs": [
    {
     "data": {
      "text/plain": [
       "array([[[ 4,  5],\n",
       "        [ 7,  8]],\n",
       "\n",
       "       [[13, 14],\n",
       "        [16, 17]],\n",
       "\n",
       "       [[22, 23],\n",
       "        [25, 26]]])"
      ]
     },
     "execution_count": 25,
     "metadata": {},
     "output_type": "execute_result"
    }
   ],
   "source": [
    "# 실습 1:\n",
    "# b 배열을 슬라이스 하여 아래와 같은 값만 출력해보세요.\n",
    "#\n",
    "# array([[[ 4,  5],\n",
    "#        [ 7,  8]],\n",
    "#\n",
    "#       [[13, 14],\n",
    "#        [16, 17]],\n",
    "#\n",
    "#       [[22, 23],\n",
    "#        [25, 26]]])\n",
    "\n",
    "\n",
    "b[:3,1:,1:]"
   ]
  },
  {
   "cell_type": "code",
   "execution_count": 30,
   "id": "affecb18",
   "metadata": {},
   "outputs": [
    {
     "data": {
      "text/plain": [
       "array([[[0, 1, 2],\n",
       "        [3, 4, 5],\n",
       "        [6, 7, 8]]])"
      ]
     },
     "execution_count": 30,
     "metadata": {},
     "output_type": "execute_result"
    }
   ],
   "source": [
    "b[:-2,:,:]"
   ]
  },
  {
   "cell_type": "markdown",
   "id": "2d5fe1c4",
   "metadata": {},
   "source": [
    "# 넘파이 reshape 알아보기\n",
    "---"
   ]
  },
  {
   "cell_type": "code",
   "execution_count": 31,
   "id": "a5c04c9d",
   "metadata": {},
   "outputs": [
    {
     "data": {
      "text/plain": [
       "array([ 0,  1,  2,  3,  4,  5,  6,  7,  8,  9, 10, 11])"
      ]
     },
     "execution_count": 31,
     "metadata": {},
     "output_type": "execute_result"
    }
   ],
   "source": [
    "import numpy as np\n",
    "\n",
    "# [1,2,3,4,5,6,7,8,9,10,11,12] 벡터를 4 * 3 행렬로 변환(reshape) 하기\n",
    "np.arange(12)"
   ]
  },
  {
   "cell_type": "code",
   "execution_count": 36,
   "id": "212821bc",
   "metadata": {},
   "outputs": [
    {
     "data": {
      "text/plain": [
       "array([[ 0,  1,  2],\n",
       "       [ 3,  4,  5],\n",
       "       [ 6,  7,  8],\n",
       "       [ 9, 10, 11]])"
      ]
     },
     "execution_count": 36,
     "metadata": {},
     "output_type": "execute_result"
    }
   ],
   "source": [
    "import numpy as np\n",
    "\n",
    "# [1,2,3,4,5,6,7,8,9,10,11,12] 벡터를 4 * 3 행렬로 변환(reshape) 하기\n",
    "np.arange(12).reshape(4,3)"
   ]
  },
  {
   "cell_type": "code",
   "execution_count": 40,
   "id": "2dd0df24",
   "metadata": {},
   "outputs": [
    {
     "data": {
      "text/plain": [
       "array([[[ 0,  1,  2,  3],\n",
       "        [ 4,  5,  6,  7],\n",
       "        [ 8,  9, 10, 11]],\n",
       "\n",
       "       [[12, 13, 14, 15],\n",
       "        [16, 17, 18, 19],\n",
       "        [20, 21, 22, 23]]])"
      ]
     },
     "execution_count": 40,
     "metadata": {},
     "output_type": "execute_result"
    }
   ],
   "source": [
    "# 0부터 24까지의 값을 가지는 벡터를\n",
    "# 2 * 3 * 4 행렬로 변환하기\n",
    "\n",
    "np.arange(24).reshape((2,3,4)) # 튜플로 인자를 넘겨도 무방합니다."
   ]
  },
  {
   "cell_type": "code",
   "execution_count": 44,
   "id": "d7c11049",
   "metadata": {},
   "outputs": [
    {
     "data": {
      "text/plain": [
       "array([[ 1,  2,  3],\n",
       "       [ 5,  7,  9],\n",
       "       [12, 15, 18]])"
      ]
     },
     "execution_count": 44,
     "metadata": {},
     "output_type": "execute_result"
    }
   ],
   "source": [
    "A = np.arange(1,10).reshape(3,3)\n",
    "A.cumsum(axis=0)"
   ]
  },
  {
   "cell_type": "markdown",
   "id": "f911b8ee",
   "metadata": {},
   "source": [
    "# 넘파이의 여러가지 연산들 2\n",
    "---"
   ]
  },
  {
   "cell_type": "code",
   "execution_count": 1,
   "id": "4c3214e4",
   "metadata": {},
   "outputs": [
    {
     "data": {
      "text/plain": [
       "0.8939966636005579"
      ]
     },
     "execution_count": 1,
     "metadata": {},
     "output_type": "execute_result"
    }
   ],
   "source": [
    "import numpy as np\n",
    "\n",
    "# sin 함수\n",
    "np.sin(90)"
   ]
  },
  {
   "cell_type": "code",
   "execution_count": 2,
   "id": "d0591826",
   "metadata": {},
   "outputs": [
    {
     "data": {
      "text/plain": [
       "array([ 0.91294525, -0.98803162,  0.74511316, -0.26237485,  0.89399666])"
      ]
     },
     "execution_count": 2,
     "metadata": {},
     "output_type": "execute_result"
    }
   ],
   "source": [
    "a = np.array([20,30,40,50,90])\n",
    "np.sin(a)"
   ]
  },
  {
   "cell_type": "markdown",
   "id": "09ac0020",
   "metadata": {},
   "source": [
    "# sin cos 함수를 이용해 4강에서 알아볼 matplotlib 맛보기\n",
    "---"
   ]
  },
  {
   "cell_type": "code",
   "execution_count": null,
   "id": "03e7c65f",
   "metadata": {},
   "outputs": [],
   "source": [
    "!pip install matplotlib"
   ]
  },
  {
   "cell_type": "code",
   "execution_count": 51,
   "id": "392a3bc7",
   "metadata": {},
   "outputs": [
    {
     "name": "stderr",
     "output_type": "stream",
     "text": [
      "C:\\Users\\AIBIZ\\AppData\\Local\\Temp\\ipykernel_15392\\1457956704.py:6: RuntimeWarning: divide by zero encountered in log\n",
      "  y1 = np.log(x)\n",
      "C:\\Users\\AIBIZ\\AppData\\Local\\Temp\\ipykernel_15392\\1457956704.py:7: RuntimeWarning: divide by zero encountered in log2\n",
      "  y2 = np.log2(x)\n"
     ]
    },
    {
     "data": {
      "image/png": "[encoded data removed]",
      "text/plain": [
       "<Figure size 432x288 with 1 Axes>"
      ]
     },
     "metadata": {
      "needs_background": "light"
     },
     "output_type": "display_data"
    }
   ],
   "source": [
    "import numpy as np\n",
    "import matplotlib.pyplot as plt\n",
    "\n",
    "x = np.arange(0,20, 0.1)\n",
    "\n",
    "y1 = np.log(x)\n",
    "y2 = np.log2(x)\n",
    "\n",
    "plt.plot(x, y1, label=\"log e\")\n",
    "plt.plot(x, y2, 'g-', label=\"log 2\")\n",
    "\n",
    "plt.xlabel(\"x\")\n",
    "plt.ylabel(\"y\")\n",
    "\n",
    "plt.title('sin & cos')\n",
    "\n",
    "plt.legend()\n",
    "plt.show()"
   ]
  },
  {
   "cell_type": "code",
   "execution_count": 57,
   "id": "4cf6b20b",
   "metadata": {},
   "outputs": [
    {
     "data": {
      "text/plain": [
       "array([ 1.1377646 ,  3.80013942,  3.84840745, -0.2207223 , -0.89997597,\n",
       "       -4.22739198, -1.46667606, -0.42289725, -1.61325251,  3.43357361,\n",
       "        1.37136982,  0.4716671 ,  0.89373689, -3.72270616,  3.76545513,\n",
       "       -4.34782578,  4.08436487, -0.93671471,  1.72540056,  2.61745613])"
      ]
     },
     "execution_count": 57,
     "metadata": {},
     "output_type": "execute_result"
    }
   ],
   "source": [
    "from random import randint\n",
    "import numpy as np\n",
    "\n",
    "profits = (np.random.random(20) / 10 - 0.05) \n",
    "profits * 100"
   ]
  },
  {
   "cell_type": "code",
   "execution_count": 54,
   "id": "44ad15ce",
   "metadata": {},
   "outputs": [],
   "source": [
    "my_seed_history = np.cumprod(profits + 1) * 10000"
   ]
  },
  {
   "cell_type": "code",
   "execution_count": 58,
   "id": "52ca5d65",
   "metadata": {},
   "outputs": [
    {
     "data": {
      "image/png": "[encoded data removed]",
      "text/plain": [
       "<Figure size 432x288 with 1 Axes>"
      ]
     },
     "metadata": {
      "needs_background": "light"
     },
     "output_type": "display_data"
    }
   ],
   "source": [
    "import numpy as np\n",
    "import matplotlib.pyplot as plt\n",
    "\n",
    "x = np.arange(20)\n",
    "\n",
    "y1 = my_seed_history\n",
    "\n",
    "plt.plot(x, y1, label=\"seed\")\n",
    "plt.xlabel(\"seed\")\n",
    "\n",
    "plt.title('time series')\n",
    "\n",
    "plt.legend()\n",
    "plt.show()"
   ]
  },
  {
   "cell_type": "code",
   "execution_count": 47,
   "id": "6af3cf71",
   "metadata": {},
   "outputs": [
    {
     "data": {
      "text/plain": [
       "array([[ 0,  1,  2,  3,  4,  5,  6,  7,  8,  9],\n",
       "       [10, 11, 12, 13, 14, 15, 16, 17, 18, 19]])"
      ]
     },
     "execution_count": 47,
     "metadata": {},
     "output_type": "execute_result"
    }
   ],
   "source": [
    "a = np.arange(10).reshape(1,10)\n",
    "b = np.arange(10,20).reshape(1,10)\n",
    "c = np.concatenate((a,b),axis=0)\n",
    "c"
   ]
  },
  {
   "cell_type": "code",
   "execution_count": 69,
   "id": "53d98703",
   "metadata": {},
   "outputs": [
    {
     "data": {
      "text/plain": [
       "array([0, 0, 0, 0, 1, 1, 1, 1, 2, 2, 2, 2, 3, 3, 3, 3, 4, 4, 4, 4, 5, 5,\n",
       "       5, 5, 6, 6, 6, 6, 7, 7, 7, 7, 8, 8, 8, 8])"
      ]
     },
     "execution_count": 69,
     "metadata": {},
     "output_type": "execute_result"
    }
   ],
   "source": [
    "A = np.arange(9)\n",
    "np.repeat(A,4) # A.T와 동일"
   ]
  },
  {
   "cell_type": "code",
   "execution_count": 77,
   "id": "130c92ba",
   "metadata": {},
   "outputs": [
    {
     "data": {
      "text/plain": [
       "array([[11, 12, 13],\n",
       "       [14, 15, 16],\n",
       "       [17, 18, 19]])"
      ]
     },
     "execution_count": 77,
     "metadata": {},
     "output_type": "execute_result"
    }
   ],
   "source": [
    "np.arange(1,10).reshape(3,3) + 10"
   ]
  },
  {
   "cell_type": "code",
   "execution_count": 91,
   "id": "893e92bf",
   "metadata": {},
   "outputs": [
    {
     "data": {
      "text/plain": [
       "array([2550000., 2250000., 1800000.])"
      ]
     },
     "execution_count": 91,
     "metadata": {},
     "output_type": "execute_result"
    }
   ],
   "source": [
    "strategy = np.array(\n",
    "[[0.3, 0.3, 0.15, 0.25],\n",
    " [0.25, 0.25, 0.25, 0.25],\n",
    " [0.2, 0.2, 0.2, 0.4]])\n",
    "\n",
    "comission = np.array([0.01, 0.03, 0.005, 0])\n",
    "\n",
    "(comission @ strategy.T) * 200000000"
   ]
  },
  {
   "cell_type": "code",
   "execution_count": 59,
   "id": "5330f3d0",
   "metadata": {},
   "outputs": [
    {
     "data": {
      "text/plain": [
       "array([ 1,  2,  3,  4,  5,  6,  7,  8,  9, 10])"
      ]
     },
     "execution_count": 59,
     "metadata": {},
     "output_type": "execute_result"
    }
   ],
   "source": [
    " np.arange(10) + 1"
   ]
  },
  {
   "cell_type": "code",
   "execution_count": 69,
   "id": "35566a0b",
   "metadata": {},
   "outputs": [
    {
     "data": {
      "text/plain": [
       "array([[0],\n",
       "       [1],\n",
       "       [2],\n",
       "       [3]])"
      ]
     },
     "execution_count": 69,
     "metadata": {},
     "output_type": "execute_result"
    }
   ],
   "source": [
    "a = np.arange(4).reshape(4,1)\n",
    "a"
   ]
  },
  {
   "cell_type": "code",
   "execution_count": 70,
   "id": "a9046e55",
   "metadata": {},
   "outputs": [
    {
     "data": {
      "text/plain": [
       "array([0, 1, 2, 3])"
      ]
     },
     "execution_count": 70,
     "metadata": {},
     "output_type": "execute_result"
    }
   ],
   "source": [
    "b = np.arange(4)\n",
    "b"
   ]
  },
  {
   "cell_type": "code",
   "execution_count": 72,
   "id": "0a85995b",
   "metadata": {},
   "outputs": [
    {
     "data": {
      "text/plain": [
       "array([[0, 0, 0, 0],\n",
       "       [0, 1, 2, 3],\n",
       "       [0, 2, 4, 6],\n",
       "       [0, 3, 6, 9]])"
      ]
     },
     "execution_count": 72,
     "metadata": {},
     "output_type": "execute_result"
    }
   ],
   "source": [
    "b * a"
   ]
  },
  {
   "cell_type": "code",
   "execution_count": 7,
   "id": "05464bd5",
   "metadata": {},
   "outputs": [
    {
     "name": "stderr",
     "output_type": "stream",
     "text": [
      "/var/folders/s_/yxrtj9nj0zxb22lb16w5hds40000gn/T/ipykernel_1297/1813077312.py:2: RuntimeWarning: divide by zero encountered in log\n",
      "  np.log(a)\n"
     ]
    },
    {
     "data": {
      "text/plain": [
       "array([  0.,   1.,   2., -inf])"
      ]
     },
     "execution_count": 7,
     "metadata": {},
     "output_type": "execute_result"
    }
   ],
   "source": [
    "a = np.array([1, np.e, np.e ** 2, 0])\n",
    "np.log(a)"
   ]
  },
  {
   "cell_type": "code",
   "execution_count": 8,
   "id": "2ad046e4",
   "metadata": {},
   "outputs": [
    {
     "data": {
      "text/plain": [
       "array([  0,   1,   8,  27,  64, 125])"
      ]
     },
     "execution_count": 8,
     "metadata": {},
     "output_type": "execute_result"
    }
   ],
   "source": [
    "import numpy as np\n",
    "\n",
    "a = np.arange(6)\n",
    "np.power(a, 3)"
   ]
  },
  {
   "cell_type": "code",
   "execution_count": 12,
   "id": "81c7086d",
   "metadata": {},
   "outputs": [
    {
     "data": {
      "text/plain": [
       "1.4142135623730951"
      ]
     },
     "execution_count": 12,
     "metadata": {},
     "output_type": "execute_result"
    }
   ],
   "source": [
    "import numpy as np\n",
    "np.sqrt(2)"
   ]
  },
  {
   "cell_type": "code",
   "execution_count": 14,
   "id": "71869057",
   "metadata": {},
   "outputs": [
    {
     "data": {
      "text/plain": [
       "array([1., 2., 3., 4.])"
      ]
     },
     "execution_count": 14,
     "metadata": {},
     "output_type": "execute_result"
    }
   ],
   "source": [
    "# sqrt 함수를 통해 제곱근을 구합니다.\n",
    "np.sqrt([1, 4, 9, 16])"
   ]
  },
  {
   "cell_type": "code",
   "execution_count": 16,
   "id": "0b5e4fc7",
   "metadata": {},
   "outputs": [
    {
     "data": {
      "text/plain": [
       "array([-1., -1., -0.,  1.,  2.,  2.,  2.])"
      ]
     },
     "execution_count": 16,
     "metadata": {},
     "output_type": "execute_result"
    }
   ],
   "source": [
    "a = [ -1.7, -1.5, -0.2, 0.2, 1.5, 1.7, 2.0]\n",
    "np.ceil(a)"
   ]
  },
  {
   "cell_type": "code",
   "execution_count": 27,
   "id": "87a9a8a8",
   "metadata": {},
   "outputs": [
    {
     "data": {
      "text/plain": [
       "1.4142135623730951"
      ]
     },
     "execution_count": 27,
     "metadata": {},
     "output_type": "execute_result"
    }
   ],
   "source": [
    "np.std([1,2,3,4,5]) # 표준 편차 구하기"
   ]
  },
  {
   "cell_type": "markdown",
   "id": "31fcdf5f",
   "metadata": {},
   "source": [
    "# 넘파이의 여러가지 연산들 3\n",
    "---"
   ]
  },
  {
   "cell_type": "code",
   "execution_count": 18,
   "id": "fe87c4d7",
   "metadata": {},
   "outputs": [
    {
     "data": {
      "text/plain": [
       "array([0, 6])"
      ]
     },
     "execution_count": 18,
     "metadata": {},
     "output_type": "execute_result"
    }
   ],
   "source": [
    "import numpy as np\n",
    "\n",
    "a = np.array([[0,1],[0,5]])\n",
    "\n",
    "np.sum(a, axis=0)"
   ]
  },
  {
   "cell_type": "code",
   "execution_count": 19,
   "id": "f5bbf875",
   "metadata": {},
   "outputs": [
    {
     "data": {
      "text/plain": [
       "array([1, 5])"
      ]
     },
     "execution_count": 19,
     "metadata": {},
     "output_type": "execute_result"
    }
   ],
   "source": [
    "np.sum(a, axis=1)"
   ]
  },
  {
   "cell_type": "code",
   "execution_count": 20,
   "id": "c1b8b647",
   "metadata": {},
   "outputs": [
    {
     "data": {
      "text/plain": [
       "6"
      ]
     },
     "execution_count": 20,
     "metadata": {},
     "output_type": "execute_result"
    }
   ],
   "source": [
    "np.sum(a)"
   ]
  },
  {
   "cell_type": "code",
   "execution_count": 21,
   "id": "cbe5da9b",
   "metadata": {},
   "outputs": [
    {
     "data": {
      "text/plain": [
       "0.0"
      ]
     },
     "execution_count": 21,
     "metadata": {},
     "output_type": "execute_result"
    }
   ],
   "source": [
    "np.sum([])"
   ]
  },
  {
   "cell_type": "code",
   "execution_count": 22,
   "id": "d733f362",
   "metadata": {},
   "outputs": [
    {
     "data": {
      "text/plain": [
       "array([ 1,  3,  6, 10, 15, 21])"
      ]
     },
     "execution_count": 22,
     "metadata": {},
     "output_type": "execute_result"
    }
   ],
   "source": [
    "b = np.array([[1,2,3],[4,5,6]])\n",
    "\n",
    "np.cumsum(b)"
   ]
  },
  {
   "cell_type": "code",
   "execution_count": 23,
   "id": "d00cebfe",
   "metadata": {},
   "outputs": [
    {
     "data": {
      "text/plain": [
       "array([[1, 2, 3],\n",
       "       [5, 7, 9]])"
      ]
     },
     "execution_count": 23,
     "metadata": {},
     "output_type": "execute_result"
    }
   ],
   "source": [
    "np.cumsum(b, axis=0)"
   ]
  },
  {
   "cell_type": "code",
   "execution_count": 25,
   "id": "590632c5",
   "metadata": {},
   "outputs": [
    {
     "data": {
      "text/plain": [
       "array([[ 1,  3,  6],\n",
       "       [ 4,  9, 15]])"
      ]
     },
     "execution_count": 25,
     "metadata": {},
     "output_type": "execute_result"
    }
   ],
   "source": [
    "np.cumsum(b, axis=1)"
   ]
  },
  {
   "cell_type": "code",
   "execution_count": 26,
   "id": "fe6169ee",
   "metadata": {},
   "outputs": [
    {
     "data": {
      "text/plain": [
       "array([ 1,  3,  6, 10, 15, 21])"
      ]
     },
     "execution_count": 26,
     "metadata": {},
     "output_type": "execute_result"
    }
   ],
   "source": [
    "np.cumsum(b)"
   ]
  },
  {
   "cell_type": "markdown",
   "id": "632af47d",
   "metadata": {},
   "source": [
    "# 넘파이 변형 함수들\n",
    "---"
   ]
  },
  {
   "cell_type": "code",
   "execution_count": 28,
   "id": "da887752",
   "metadata": {},
   "outputs": [
    {
     "data": {
      "text/plain": [
       "[1, 2, 3, 4, 5, 6]"
      ]
     },
     "execution_count": 28,
     "metadata": {},
     "output_type": "execute_result"
    }
   ],
   "source": [
    "list1 = [1,2,3]\n",
    "list2 = [4,5,6]\n",
    "\n",
    "list1 + list2"
   ]
  },
  {
   "cell_type": "code",
   "execution_count": 29,
   "id": "3120775c",
   "metadata": {},
   "outputs": [
    {
     "data": {
      "text/plain": [
       "array([5, 7, 9])"
      ]
     },
     "execution_count": 29,
     "metadata": {},
     "output_type": "execute_result"
    }
   ],
   "source": [
    "arr1 = np.array([1,2,3])\n",
    "arr2 = np.array([4,5,6])\n",
    "\n",
    "arr1 + arr2"
   ]
  },
  {
   "cell_type": "code",
   "execution_count": 31,
   "id": "6199809c",
   "metadata": {},
   "outputs": [
    {
     "data": {
      "text/plain": [
       "array([1, 2, 3, 4, 5, 6])"
      ]
     },
     "execution_count": 31,
     "metadata": {},
     "output_type": "execute_result"
    }
   ],
   "source": [
    "np.concatenate([arr1, arr2])"
   ]
  },
  {
   "cell_type": "code",
   "execution_count": 36,
   "id": "7b28a523",
   "metadata": {},
   "outputs": [
    {
     "data": {
      "text/plain": [
       "array([[1, 2, 3],\n",
       "       [4, 5, 6]])"
      ]
     },
     "execution_count": 36,
     "metadata": {},
     "output_type": "execute_result"
    }
   ],
   "source": [
    "arr1 = np.array([[1,2,3]])\n",
    "arr2 = np.array([[4,5,6]])\n",
    "\n",
    "np.concatenate([arr1,arr2])"
   ]
  },
  {
   "cell_type": "code",
   "execution_count": 38,
   "id": "470cadc4",
   "metadata": {},
   "outputs": [
    {
     "data": {
      "text/plain": [
       "array([[1, 2, 3, 4, 5, 6]])"
      ]
     },
     "execution_count": 38,
     "metadata": {},
     "output_type": "execute_result"
    }
   ],
   "source": [
    "np.concatenate([arr1,arr2], axis=1)"
   ]
  },
  {
   "attachments": {
    "image.png": {
     "image/png": "[encoded data removed]"
    }
   },
   "cell_type": "markdown",
   "id": "3b7f5404",
   "metadata": {},
   "source": [
    "# 행렬 Tanspose 하기\n",
    "---\n",
    "\n",
    "\n",
    "![image.png](attachment:image.png)"
   ]
  },
  {
   "cell_type": "code",
   "execution_count": 42,
   "id": "912b0572",
   "metadata": {},
   "outputs": [
    {
     "data": {
      "text/plain": [
       "array([[0, 3, 6],\n",
       "       [1, 4, 7],\n",
       "       [2, 5, 8]])"
      ]
     },
     "execution_count": 42,
     "metadata": {},
     "output_type": "execute_result"
    }
   ],
   "source": [
    "a = np.array([[0,1,2],[3,4,5],[6,7,8]])\n",
    "a.T"
   ]
  },
  {
   "cell_type": "code",
   "execution_count": 43,
   "id": "a049612b",
   "metadata": {},
   "outputs": [
    {
     "data": {
      "text/plain": [
       "array([[0, 3, 6],\n",
       "       [1, 4, 7],\n",
       "       [2, 5, 8]])"
      ]
     },
     "execution_count": 43,
     "metadata": {},
     "output_type": "execute_result"
    }
   ],
   "source": [
    "np.transpose(a)"
   ]
  },
  {
   "cell_type": "code",
   "execution_count": 44,
   "id": "ec6ffdd5",
   "metadata": {},
   "outputs": [
    {
     "data": {
      "text/plain": [
       "array([[0, 1, 2],\n",
       "       [3, 4, 5],\n",
       "       [6, 7, 8]])"
      ]
     },
     "execution_count": 44,
     "metadata": {},
     "output_type": "execute_result"
    }
   ],
   "source": [
    "np.transpose(a.T)"
   ]
  }
 ],
 "metadata": {
  "kernelspec": {
   "display_name": "Python 3 (ipykernel)",
   "language": "python",
   "name": "python3"
  },
  "language_info": {
   "codemirror_mode": {
    "name": "ipython",
    "version": 3
   },
   "file_extension": ".py",
   "mimetype": "text/x-python",
   "name": "python",
   "nbconvert_exporter": "python",
   "pygments_lexer": "ipython3",
   "version": "3.10.6"
  }
 },
 "nbformat": 4,
 "nbformat_minor": 5
}
