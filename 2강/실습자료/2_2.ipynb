{
 "cells": [
  {
   "cell_type": "code",
   "execution_count": 5,
   "metadata": {},
   "outputs": [
    {
     "name": "stdout",
     "output_type": "stream",
     "text": [
      "     지출   부서\n",
      "0  7000  R&D\n",
      "1  9000   인사\n",
      "2  3000   영업\n"
     ]
    }
   ],
   "source": [
    "import pandas as pd\n",
    "\n",
    "values = [ [7000, \"R&D\"], [ 9000, \"인사\" ], [ 3000, \"영업\"] ]\n",
    "columns = [ \"지출\", \"부서\" ]\n",
    "\n",
    "df = pd.DataFrame(values,columns=columns)\n",
    "print(df)"
   ]
  },
  {
   "cell_type": "code",
   "execution_count": 6,
   "metadata": {},
   "outputs": [
    {
     "name": "stdout",
     "output_type": "stream",
     "text": [
      "            지출   부서\n",
      "20210101  7000  R&D\n",
      "20210102  9000   인사\n",
      "20210103  3000   영업\n"
     ]
    }
   ],
   "source": [
    "import pandas as pd\n",
    "\n",
    "values = [ [7000, \"R&D\"], [ 9000, \"인사\" ], [ 3000, \"영업\"] ]\n",
    "dates = [ \"20210101\", \"20210102\", \"20210103\" ]\n",
    "\n",
    "columns = [ \"지출\", \"부서\" ]\n",
    "\n",
    "df = pd.DataFrame(values,columns=columns)\n",
    "df.index = dates\n",
    "print(df)"
   ]
  },
  {
   "cell_type": "code",
   "execution_count": 9,
   "metadata": {},
   "outputs": [
    {
     "name": "stdout",
     "output_type": "stream",
     "text": [
      "            지출   부서\n",
      "20210101  7000  R&D\n",
      "20210102  9000   인사\n",
      "20210103  3000   영업\n"
     ]
    },
    {
     "data": {
      "text/html": [
       "<div>\n",
       "<style scoped>\n",
       "    .dataframe tbody tr th:only-of-type {\n",
       "        vertical-align: middle;\n",
       "    }\n",
       "\n",
       "    .dataframe tbody tr th {\n",
       "        vertical-align: top;\n",
       "    }\n",
       "\n",
       "    .dataframe thead th {\n",
       "        text-align: right;\n",
       "    }\n",
       "</style>\n",
       "<table border=\"1\" class=\"dataframe\">\n",
       "  <thead>\n",
       "    <tr style=\"text-align: right;\">\n",
       "      <th></th>\n",
       "      <th>지출</th>\n",
       "      <th>부서</th>\n",
       "    </tr>\n",
       "  </thead>\n",
       "  <tbody>\n",
       "    <tr>\n",
       "      <th>20210102</th>\n",
       "      <td>9000</td>\n",
       "      <td>인사</td>\n",
       "    </tr>\n",
       "    <tr>\n",
       "      <th>20210103</th>\n",
       "      <td>3000</td>\n",
       "      <td>영업</td>\n",
       "    </tr>\n",
       "  </tbody>\n",
       "</table>\n",
       "</div>"
      ],
      "text/plain": [
       "            지출  부서\n",
       "20210102  9000  인사\n",
       "20210103  3000  영업"
      ]
     },
     "execution_count": 9,
     "metadata": {},
     "output_type": "execute_result"
    }
   ],
   "source": [
    "import pandas as pd\n",
    "\n",
    "values = [ [7000, \"R&D\"], [ 9000, \"인사\" ], [ 3000, \"영업\"] ]\n",
    "dates = [ \"20210101\", \"20210102\", \"20210103\" ]\n",
    "\n",
    "columns = [ \"지출\", \"부서\" ]\n",
    "\n",
    "df = pd.DataFrame(values,columns=columns)\n",
    "df.index = dates\n",
    "\n",
    "print(df)\n",
    "df.iloc[1:,:]"
   ]
  },
  {
   "cell_type": "code",
   "execution_count": 12,
   "metadata": {},
   "outputs": [
    {
     "name": "stdout",
     "output_type": "stream",
     "text": [
      "            지출   부서\n",
      "20210101  7000  R&D\n",
      "20210102  9000   인사\n",
      "20210103  3000   영업\n"
     ]
    },
    {
     "data": {
      "text/plain": [
       "9000"
      ]
     },
     "execution_count": 12,
     "metadata": {},
     "output_type": "execute_result"
    }
   ],
   "source": [
    "import pandas as pd\n",
    "\n",
    "values = [ [7000, \"R&D\"], [ 9000, \"인사\" ], [ 3000, \"영업\"] ]\n",
    "dates = [ \"20210101\", \"20210102\", \"20210103\" ]\n",
    "\n",
    "columns = [ \"지출\", \"부서\" ]\n",
    "\n",
    "df = pd.DataFrame(values,columns=columns)\n",
    "df.index = dates\n",
    "\n",
    "print(df)\n",
    "df.loc[\"20210102\",\"지출\"]"
   ]
  },
  {
   "cell_type": "code",
   "execution_count": 16,
   "metadata": {},
   "outputs": [
    {
     "data": {
      "text/plain": [
       "20210101    7000\n",
       "20210102    9000\n",
       "20210103    3000\n",
       "Name: 지출, dtype: int64"
      ]
     },
     "execution_count": 16,
     "metadata": {},
     "output_type": "execute_result"
    }
   ],
   "source": [
    "df[\"지출\"]"
   ]
  },
  {
   "cell_type": "code",
   "execution_count": 18,
   "metadata": {},
   "outputs": [
    {
     "data": {
      "text/html": [
       "<div>\n",
       "<style scoped>\n",
       "    .dataframe tbody tr th:only-of-type {\n",
       "        vertical-align: middle;\n",
       "    }\n",
       "\n",
       "    .dataframe tbody tr th {\n",
       "        vertical-align: top;\n",
       "    }\n",
       "\n",
       "    .dataframe thead th {\n",
       "        text-align: right;\n",
       "    }\n",
       "</style>\n",
       "<table border=\"1\" class=\"dataframe\">\n",
       "  <thead>\n",
       "    <tr style=\"text-align: right;\">\n",
       "      <th></th>\n",
       "      <th>지출</th>\n",
       "      <th>부서</th>\n",
       "    </tr>\n",
       "  </thead>\n",
       "  <tbody>\n",
       "    <tr>\n",
       "      <th>20210101</th>\n",
       "      <td>7000</td>\n",
       "      <td>R&amp;D</td>\n",
       "    </tr>\n",
       "    <tr>\n",
       "      <th>20210102</th>\n",
       "      <td>9000</td>\n",
       "      <td>인사</td>\n",
       "    </tr>\n",
       "    <tr>\n",
       "      <th>20210103</th>\n",
       "      <td>3000</td>\n",
       "      <td>영업</td>\n",
       "    </tr>\n",
       "    <tr>\n",
       "      <th>20210104</th>\n",
       "      <td>20000</td>\n",
       "      <td>인사</td>\n",
       "    </tr>\n",
       "    <tr>\n",
       "      <th>20210105</th>\n",
       "      <td>4000</td>\n",
       "      <td>영업</td>\n",
       "    </tr>\n",
       "  </tbody>\n",
       "</table>\n",
       "</div>"
      ],
      "text/plain": [
       "             지출   부서\n",
       "20210101   7000  R&D\n",
       "20210102   9000   인사\n",
       "20210103   3000   영업\n",
       "20210104  20000   인사\n",
       "20210105   4000   영업"
      ]
     },
     "execution_count": 18,
     "metadata": {},
     "output_type": "execute_result"
    }
   ],
   "source": [
    "import pandas as pd\n",
    "\n",
    "values = [ \n",
    "    [7000, \"R&D\"], \n",
    "    [ 9000, \"인사\" ], \n",
    "    [ 3000, \"영업\"], \n",
    "    [ 20000, \"인사\" ], \n",
    "    [ 4000, \"영업\" ] \n",
    "]\n",
    "\n",
    "dates = [ \"20210101\", \"20210102\", \"20210103\", \"20210104\", \"20210105\" ]\n",
    "columns = [ \"지출\", \"부서\" ]\n",
    "\n",
    "df = pd.DataFrame(values,columns=columns)\n",
    "df.index = dates\n",
    "\n",
    "df"
   ]
  },
  {
   "cell_type": "code",
   "execution_count": 24,
   "metadata": {},
   "outputs": [
    {
     "data": {
      "text/plain": [
       "7000"
      ]
     },
     "execution_count": 24,
     "metadata": {},
     "output_type": "execute_result"
    }
   ],
   "source": [
    "import pandas as pd\n",
    "\n",
    "values = [ \n",
    "    [7000, \"R&D\"], \n",
    "    [ 9000, \"인사\" ], \n",
    "    [ 3000, \"영업\"], \n",
    "    [ 20000, \"인사\" ], \n",
    "    [ 4000, \"영업\" ] \n",
    "]\n",
    "\n",
    "dates = [ \"20210101\", \"20210102\", \"20210103\", \"20210104\", \"20210105\" ]\n",
    "columns = [ \"지출\", \"부서\" ]\n",
    "\n",
    "df = pd.DataFrame(values,columns=columns)\n",
    "df.index = dates\n",
    "\n",
    "sales_team_expenses = df[ df[\"부서\"] == \"영업\"]\n",
    "sales_team_expenses[\"지출\"].sum()"
   ]
  },
  {
   "cell_type": "code",
   "execution_count": 29,
   "metadata": {},
   "outputs": [
    {
     "data": {
      "text/html": [
       "<div>\n",
       "<style scoped>\n",
       "    .dataframe tbody tr th:only-of-type {\n",
       "        vertical-align: middle;\n",
       "    }\n",
       "\n",
       "    .dataframe tbody tr th {\n",
       "        vertical-align: top;\n",
       "    }\n",
       "\n",
       "    .dataframe thead th {\n",
       "        text-align: right;\n",
       "    }\n",
       "</style>\n",
       "<table border=\"1\" class=\"dataframe\">\n",
       "  <thead>\n",
       "    <tr style=\"text-align: right;\">\n",
       "      <th></th>\n",
       "      <th>지출</th>\n",
       "      <th>부서</th>\n",
       "    </tr>\n",
       "  </thead>\n",
       "  <tbody>\n",
       "    <tr>\n",
       "      <th>20210101</th>\n",
       "      <td>7000</td>\n",
       "      <td>R&amp;D</td>\n",
       "    </tr>\n",
       "    <tr>\n",
       "      <th>20210102</th>\n",
       "      <td>9000</td>\n",
       "      <td>인사</td>\n",
       "    </tr>\n",
       "    <tr>\n",
       "      <th>20210103</th>\n",
       "      <td>3000</td>\n",
       "      <td>영업</td>\n",
       "    </tr>\n",
       "    <tr>\n",
       "      <th>20210105</th>\n",
       "      <td>4000</td>\n",
       "      <td>영업</td>\n",
       "    </tr>\n",
       "    <tr>\n",
       "      <th>20210106</th>\n",
       "      <td>35000</td>\n",
       "      <td>영업</td>\n",
       "    </tr>\n",
       "  </tbody>\n",
       "</table>\n",
       "</div>"
      ],
      "text/plain": [
       "             지출   부서\n",
       "20210101   7000  R&D\n",
       "20210102   9000   인사\n",
       "20210103   3000   영업\n",
       "20210105   4000   영업\n",
       "20210106  35000   영업"
      ]
     },
     "execution_count": 29,
     "metadata": {},
     "output_type": "execute_result"
    }
   ],
   "source": [
    "import pandas as pd\n",
    "\n",
    "values = [ \n",
    "    [7000, \"R&D\"], \n",
    "    [ 9000, \"인사\" ], \n",
    "    [ 3000, \"영업\"], \n",
    "    [ 20000, \"인사\" ], \n",
    "    [ 4000, \"영업\" ],\n",
    "    [ 35000, \"영업\"],\n",
    "    [11000, \"R&D\"]\n",
    "]\n",
    "\n",
    "dates = [ \n",
    "    \"20210101\", \"20210102\", \"20210103\", \n",
    "    \"20210104\", \"20210105\", \"20210106\", \n",
    "    \"20210107\" \n",
    "]\n",
    "columns = [ \"지출\", \"부서\" ]\n",
    "df[ (df[\"부서\"] == \"영업\") | (df[\"지출\"] < 10000)]"
   ]
  },
  {
   "cell_type": "code",
   "execution_count": 53,
   "metadata": {},
   "outputs": [
    {
     "data": {
      "text/html": [
       "<div>\n",
       "<style scoped>\n",
       "    .dataframe tbody tr th:only-of-type {\n",
       "        vertical-align: middle;\n",
       "    }\n",
       "\n",
       "    .dataframe tbody tr th {\n",
       "        vertical-align: top;\n",
       "    }\n",
       "\n",
       "    .dataframe thead th {\n",
       "        text-align: right;\n",
       "    }\n",
       "</style>\n",
       "<table border=\"1\" class=\"dataframe\">\n",
       "  <thead>\n",
       "    <tr style=\"text-align: right;\">\n",
       "      <th></th>\n",
       "      <th>지출</th>\n",
       "    </tr>\n",
       "    <tr>\n",
       "      <th>부서</th>\n",
       "      <th></th>\n",
       "    </tr>\n",
       "  </thead>\n",
       "  <tbody>\n",
       "    <tr>\n",
       "      <th>R&amp;D</th>\n",
       "      <td>18000</td>\n",
       "    </tr>\n",
       "    <tr>\n",
       "      <th>영업</th>\n",
       "      <td>42000</td>\n",
       "    </tr>\n",
       "    <tr>\n",
       "      <th>인사</th>\n",
       "      <td>29000</td>\n",
       "    </tr>\n",
       "  </tbody>\n",
       "</table>\n",
       "</div>"
      ],
      "text/plain": [
       "        지출\n",
       "부서        \n",
       "R&D  18000\n",
       "영업   42000\n",
       "인사   29000"
      ]
     },
     "execution_count": 53,
     "metadata": {},
     "output_type": "execute_result"
    }
   ],
   "source": [
    "import pandas as pd\n",
    "\n",
    "values = [ \n",
    "    [7000, \"R&D\"], \n",
    "    [ 9000, \"인사\" ], \n",
    "    [ 3000, \"영업\"], \n",
    "    [ 20000, \"인사\" ], \n",
    "    [ 4000, \"영업\" ],\n",
    "    [ 35000, \"영업\"],\n",
    "    [11000, \"R&D\"]\n",
    "]\n",
    "\n",
    "dates = [ \n",
    "    \"20210101\", \"20210102\", \"20210103\", \n",
    "    \"20210104\", \"20210105\", \"20210106\", \n",
    "    \"20210107\" \n",
    "]\n",
    "columns = [ \"지출\", \"부서\" ]\n",
    "\n",
    "df = pd.DataFrame(values,columns=columns)\n",
    "expenses_dep = df.groupby(\"부서\").sum()\n",
    "expenses_dep"
   ]
  },
  {
   "cell_type": "code",
   "execution_count": 63,
   "metadata": {},
   "outputs": [
    {
     "data": {
      "text/html": [
       "<div>\n",
       "<style scoped>\n",
       "    .dataframe tbody tr th:only-of-type {\n",
       "        vertical-align: middle;\n",
       "    }\n",
       "\n",
       "    .dataframe tbody tr th {\n",
       "        vertical-align: top;\n",
       "    }\n",
       "\n",
       "    .dataframe thead th {\n",
       "        text-align: right;\n",
       "    }\n",
       "</style>\n",
       "<table border=\"1\" class=\"dataframe\">\n",
       "  <thead>\n",
       "    <tr style=\"text-align: right;\">\n",
       "      <th></th>\n",
       "      <th>지출</th>\n",
       "      <th>수입</th>\n",
       "      <th>부서</th>\n",
       "    </tr>\n",
       "  </thead>\n",
       "  <tbody>\n",
       "    <tr>\n",
       "      <th>0</th>\n",
       "      <td>18000</td>\n",
       "      <td>40000</td>\n",
       "      <td>R&amp;D</td>\n",
       "    </tr>\n",
       "    <tr>\n",
       "      <th>2</th>\n",
       "      <td>42000</td>\n",
       "      <td>44000</td>\n",
       "      <td>영업</td>\n",
       "    </tr>\n",
       "    <tr>\n",
       "      <th>1</th>\n",
       "      <td>29000</td>\n",
       "      <td>27000</td>\n",
       "      <td>인사</td>\n",
       "    </tr>\n",
       "  </tbody>\n",
       "</table>\n",
       "</div>"
      ],
      "text/plain": [
       "      지출     수입   부서\n",
       "0  18000  40000  R&D\n",
       "2  42000  44000   영업\n",
       "1  29000  27000   인사"
      ]
     },
     "execution_count": 63,
     "metadata": {},
     "output_type": "execute_result"
    }
   ],
   "source": [
    "import pandas as pd\n",
    "\n",
    "values = [ \n",
    "    [ 40000, \"R&D\"], \n",
    "    [ 27000, \"인사\" ], \n",
    "    [ 44000, \"영업\"], \n",
    "]\n",
    "\n",
    "columns = [ \"수입\", \"부서\" ]\n",
    "\n",
    "income_dep = pd.DataFrame(values)\n",
    "income_dep.columns = columns\n",
    "income_dep\n",
    "\n",
    "pd.merge(expenses_dep, income_dep, how='inner', left_index=True, right_on='부서')"
   ]
  },
  {
   "cell_type": "code",
   "execution_count": 68,
   "metadata": {},
   "outputs": [],
   "source": [
    "import pandas as pd\n",
    "\n",
    "values = [ \n",
    "    [ 40000 ], \n",
    "    [ 27000 ], \n",
    "    [ 44000 ], \n",
    "]\n",
    "\n",
    "index = [ \n",
    "    \"R&D\", \n",
    "    \"인사\", \n",
    "    \"영업\", \n",
    "]\n",
    "\n",
    "columns = [ \"수입\" ]\n",
    "\n",
    "income_dep = pd.DataFrame(values,columns=columns)\n",
    "income_dep.index = index\n",
    "\n",
    "joint_df = pd.merge(expenses_dep, income_dep, how='inner', left_index=True, right_index=True)"
   ]
  },
  {
   "cell_type": "code",
   "execution_count": 74,
   "metadata": {},
   "outputs": [
    {
     "data": {
      "text/html": [
       "<div>\n",
       "<style scoped>\n",
       "    .dataframe tbody tr th:only-of-type {\n",
       "        vertical-align: middle;\n",
       "    }\n",
       "\n",
       "    .dataframe tbody tr th {\n",
       "        vertical-align: top;\n",
       "    }\n",
       "\n",
       "    .dataframe thead th {\n",
       "        text-align: right;\n",
       "    }\n",
       "</style>\n",
       "<table border=\"1\" class=\"dataframe\">\n",
       "  <thead>\n",
       "    <tr style=\"text-align: right;\">\n",
       "      <th></th>\n",
       "      <th>지출</th>\n",
       "      <th>수입</th>\n",
       "      <th>비율</th>\n",
       "    </tr>\n",
       "  </thead>\n",
       "  <tbody>\n",
       "    <tr>\n",
       "      <th>R&amp;D</th>\n",
       "      <td>18000</td>\n",
       "      <td>40000</td>\n",
       "      <td>0.450000</td>\n",
       "    </tr>\n",
       "    <tr>\n",
       "      <th>영업</th>\n",
       "      <td>42000</td>\n",
       "      <td>44000</td>\n",
       "      <td>0.954545</td>\n",
       "    </tr>\n",
       "    <tr>\n",
       "      <th>인사</th>\n",
       "      <td>29000</td>\n",
       "      <td>27000</td>\n",
       "      <td>1.074074</td>\n",
       "    </tr>\n",
       "  </tbody>\n",
       "</table>\n",
       "</div>"
      ],
      "text/plain": [
       "        지출     수입        비율\n",
       "R&D  18000  40000  0.450000\n",
       "영업   42000  44000  0.954545\n",
       "인사   29000  27000  1.074074"
      ]
     },
     "execution_count": 74,
     "metadata": {},
     "output_type": "execute_result"
    }
   ],
   "source": [
    "joint_df[\"비율\"] = joint_df.apply(lambda x: x[\"지출\"] / x[\"수입\"], axis=1)\n",
    "joint_df"
   ]
  },
  {
   "cell_type": "code",
   "execution_count": 122,
   "metadata": {},
   "outputs": [],
   "source": [
    "import pandas as pd\n",
    "\n",
    "values = [ \n",
    "    [ \"20210101\", 7000, \"R&D\", \"식비\" ], \n",
    "    [ \"20210101\", 9000, \"인사\", \"식비\" ], \n",
    "    [ \"20210101\", 3000, \"영업\", \"식비\" ], \n",
    "    [ \"20210102\", 20000, \"인사\", \"비품구입비\" ], \n",
    "    [ \"20210102\", 4000, \"영업\", \"식비\" ], \n",
    "    [ \"20210102\", 35000, \"영업\", \"접대비\" ], \n",
    "    [ \"20210102\", 11000, \"R&D\", \"식비\" ], \n",
    "]\n",
    "\n",
    "columns = [ \n",
    "    \"날짜\",\n",
    "    \"금액\",\n",
    "    \"부서\",\n",
    "    \"항목\"\n",
    "]\n",
    "\n",
    "df = pd.DataFrame(values,columns=columns)\n",
    "df.to_csv('test.csv')"
   ]
  },
  {
   "cell_type": "code",
   "execution_count": 108,
   "metadata": {},
   "outputs": [
    {
     "data": {
      "text/html": [
       "<div>\n",
       "<style scoped>\n",
       "    .dataframe tbody tr th:only-of-type {\n",
       "        vertical-align: middle;\n",
       "    }\n",
       "\n",
       "    .dataframe tbody tr th {\n",
       "        vertical-align: top;\n",
       "    }\n",
       "\n",
       "    .dataframe thead th {\n",
       "        text-align: right;\n",
       "    }\n",
       "</style>\n",
       "<table border=\"1\" class=\"dataframe\">\n",
       "  <thead>\n",
       "    <tr style=\"text-align: right;\">\n",
       "      <th>부서</th>\n",
       "      <th>R&amp;D</th>\n",
       "      <th>영업</th>\n",
       "      <th>인사</th>\n",
       "    </tr>\n",
       "    <tr>\n",
       "      <th>날짜</th>\n",
       "      <th></th>\n",
       "      <th></th>\n",
       "      <th></th>\n",
       "    </tr>\n",
       "  </thead>\n",
       "  <tbody>\n",
       "    <tr>\n",
       "      <th>20210101</th>\n",
       "      <td>7000</td>\n",
       "      <td>3000</td>\n",
       "      <td>9000</td>\n",
       "    </tr>\n",
       "    <tr>\n",
       "      <th>20210102</th>\n",
       "      <td>11000</td>\n",
       "      <td>19500</td>\n",
       "      <td>20000</td>\n",
       "    </tr>\n",
       "  </tbody>\n",
       "</table>\n",
       "</div>"
      ],
      "text/plain": [
       "부서          R&D     영업     인사\n",
       "날짜                           \n",
       "20210101   7000   3000   9000\n",
       "20210102  11000  19500  20000"
      ]
     },
     "execution_count": 108,
     "metadata": {},
     "output_type": "execute_result"
    }
   ],
   "source": [
    "import numpy as np\n",
    "df.pivot_table(index='날짜', values='금액', columns=\"부서\", aggfunc=np.mean)"
   ]
  },
  {
   "cell_type": "code",
   "execution_count": 112,
   "metadata": {},
   "outputs": [
    {
     "data": {
      "text/html": [
       "<div>\n",
       "<style scoped>\n",
       "    .dataframe tbody tr th:only-of-type {\n",
       "        vertical-align: middle;\n",
       "    }\n",
       "\n",
       "    .dataframe tbody tr th {\n",
       "        vertical-align: top;\n",
       "    }\n",
       "\n",
       "    .dataframe thead tr th {\n",
       "        text-align: left;\n",
       "    }\n",
       "\n",
       "    .dataframe thead tr:last-of-type th {\n",
       "        text-align: right;\n",
       "    }\n",
       "</style>\n",
       "<table border=\"1\" class=\"dataframe\">\n",
       "  <thead>\n",
       "    <tr>\n",
       "      <th>부서</th>\n",
       "      <th>R&amp;D</th>\n",
       "      <th colspan=\"2\" halign=\"left\">영업</th>\n",
       "      <th colspan=\"2\" halign=\"left\">인사</th>\n",
       "    </tr>\n",
       "    <tr>\n",
       "      <th>항목</th>\n",
       "      <th>식비</th>\n",
       "      <th>식비</th>\n",
       "      <th>접대비</th>\n",
       "      <th>비품구입비</th>\n",
       "      <th>식비</th>\n",
       "    </tr>\n",
       "    <tr>\n",
       "      <th>날짜</th>\n",
       "      <th></th>\n",
       "      <th></th>\n",
       "      <th></th>\n",
       "      <th></th>\n",
       "      <th></th>\n",
       "    </tr>\n",
       "  </thead>\n",
       "  <tbody>\n",
       "    <tr>\n",
       "      <th>20210101</th>\n",
       "      <td>7000.0</td>\n",
       "      <td>3000.0</td>\n",
       "      <td>NaN</td>\n",
       "      <td>NaN</td>\n",
       "      <td>9000.0</td>\n",
       "    </tr>\n",
       "    <tr>\n",
       "      <th>20210102</th>\n",
       "      <td>11000.0</td>\n",
       "      <td>4000.0</td>\n",
       "      <td>35000.0</td>\n",
       "      <td>20000.0</td>\n",
       "      <td>NaN</td>\n",
       "    </tr>\n",
       "  </tbody>\n",
       "</table>\n",
       "</div>"
      ],
      "text/plain": [
       "부서            R&D      영업                인사        \n",
       "항목             식비      식비      접대비    비품구입비      식비\n",
       "날짜                                                 \n",
       "20210101   7000.0  3000.0      NaN      NaN  9000.0\n",
       "20210102  11000.0  4000.0  35000.0  20000.0     NaN"
      ]
     },
     "execution_count": 112,
     "metadata": {},
     "output_type": "execute_result"
    }
   ],
   "source": [
    "import numpy as np\n",
    "df.pivot_table(index='날짜', values='금액', columns=[ \"부서\", \"항목\" ], \n",
    "               aggfunc=np.sum)"
   ]
  },
  {
   "cell_type": "code",
   "execution_count": 119,
   "metadata": {},
   "outputs": [
    {
     "data": {
      "text/html": [
       "<div>\n",
       "<style scoped>\n",
       "    .dataframe tbody tr th:only-of-type {\n",
       "        vertical-align: middle;\n",
       "    }\n",
       "\n",
       "    .dataframe tbody tr th {\n",
       "        vertical-align: top;\n",
       "    }\n",
       "\n",
       "    .dataframe thead tr th {\n",
       "        text-align: left;\n",
       "    }\n",
       "\n",
       "    .dataframe thead tr:last-of-type th {\n",
       "        text-align: right;\n",
       "    }\n",
       "</style>\n",
       "<table border=\"1\" class=\"dataframe\">\n",
       "  <thead>\n",
       "    <tr>\n",
       "      <th></th>\n",
       "      <th colspan=\"6\" halign=\"left\">금액</th>\n",
       "      <th colspan=\"3\" halign=\"left\">부서</th>\n",
       "    </tr>\n",
       "    <tr>\n",
       "      <th></th>\n",
       "      <th colspan=\"3\" halign=\"left\">amax</th>\n",
       "      <th colspan=\"3\" halign=\"left\">sum</th>\n",
       "      <th colspan=\"3\" halign=\"left\">count</th>\n",
       "    </tr>\n",
       "    <tr>\n",
       "      <th>항목</th>\n",
       "      <th>비품구입비</th>\n",
       "      <th>식비</th>\n",
       "      <th>접대비</th>\n",
       "      <th>비품구입비</th>\n",
       "      <th>식비</th>\n",
       "      <th>접대비</th>\n",
       "      <th>비품구입비</th>\n",
       "      <th>식비</th>\n",
       "      <th>접대비</th>\n",
       "    </tr>\n",
       "    <tr>\n",
       "      <th>날짜</th>\n",
       "      <th></th>\n",
       "      <th></th>\n",
       "      <th></th>\n",
       "      <th></th>\n",
       "      <th></th>\n",
       "      <th></th>\n",
       "      <th></th>\n",
       "      <th></th>\n",
       "      <th></th>\n",
       "    </tr>\n",
       "  </thead>\n",
       "  <tbody>\n",
       "    <tr>\n",
       "      <th>20210101</th>\n",
       "      <td>0</td>\n",
       "      <td>9000</td>\n",
       "      <td>0</td>\n",
       "      <td>0</td>\n",
       "      <td>19000</td>\n",
       "      <td>0</td>\n",
       "      <td>0</td>\n",
       "      <td>3</td>\n",
       "      <td>0</td>\n",
       "    </tr>\n",
       "    <tr>\n",
       "      <th>20210102</th>\n",
       "      <td>20000</td>\n",
       "      <td>11000</td>\n",
       "      <td>35000</td>\n",
       "      <td>20000</td>\n",
       "      <td>15000</td>\n",
       "      <td>35000</td>\n",
       "      <td>1</td>\n",
       "      <td>2</td>\n",
       "      <td>1</td>\n",
       "    </tr>\n",
       "  </tbody>\n",
       "</table>\n",
       "</div>"
      ],
      "text/plain": [
       "             금액                                       부서       \n",
       "           amax                  sum               count       \n",
       "항목        비품구입비     식비    접대비  비품구입비     식비    접대비 비품구입비 식비 접대비\n",
       "날짜                                                             \n",
       "20210101      0   9000      0      0  19000      0     0  3   0\n",
       "20210102  20000  11000  35000  20000  15000  35000     1  2   1"
      ]
     },
     "execution_count": 119,
     "metadata": {},
     "output_type": "execute_result"
    }
   ],
   "source": [
    "import numpy as np\n",
    "df.pivot_table(index='날짜', values=[ '금액', '부서' ], columns=[ \"항목\" ], \n",
    "               aggfunc={\n",
    "                    '금액': [ np.sum, np.max ],\n",
    "                    '부서': 'count'\n",
    "                },\n",
    "               fill_value=0)"
   ]
  },
  {
   "cell_type": "code",
   "execution_count": 135,
   "metadata": {},
   "outputs": [
    {
     "data": {
      "text/html": [
       "<div>\n",
       "<style scoped>\n",
       "    .dataframe tbody tr th:only-of-type {\n",
       "        vertical-align: middle;\n",
       "    }\n",
       "\n",
       "    .dataframe tbody tr th {\n",
       "        vertical-align: top;\n",
       "    }\n",
       "\n",
       "    .dataframe thead th {\n",
       "        text-align: right;\n",
       "    }\n",
       "</style>\n",
       "<table border=\"1\" class=\"dataframe\">\n",
       "  <thead>\n",
       "    <tr style=\"text-align: right;\">\n",
       "      <th></th>\n",
       "      <th>이름</th>\n",
       "      <th>주민번호</th>\n",
       "    </tr>\n",
       "  </thead>\n",
       "  <tbody>\n",
       "    <tr>\n",
       "      <th>0</th>\n",
       "      <td>김김밥</td>\n",
       "      <td>900128-*******</td>\n",
       "    </tr>\n",
       "    <tr>\n",
       "      <th>1</th>\n",
       "      <td>이열무</td>\n",
       "      <td>910318-*******</td>\n",
       "    </tr>\n",
       "    <tr>\n",
       "      <th>2</th>\n",
       "      <td>최냉면</td>\n",
       "      <td>810501-*******</td>\n",
       "    </tr>\n",
       "    <tr>\n",
       "      <th>3</th>\n",
       "      <td>박말이</td>\n",
       "      <td>980501-*******</td>\n",
       "    </tr>\n",
       "  </tbody>\n",
       "</table>\n",
       "</div>"
      ],
      "text/plain": [
       "    이름            주민번호\n",
       "0  김김밥  900128-*******\n",
       "1  이열무  910318-*******\n",
       "2  최냉면  810501-*******\n",
       "3  박말이  980501-*******"
      ]
     },
     "execution_count": 135,
     "metadata": {},
     "output_type": "execute_result"
    }
   ],
   "source": [
    "data = [\n",
    "    [\"김김밥\", \"900128-1234566\"],\n",
    "    [\"이열무\", \"910318-1234567\"],\n",
    "    [\"최냉면\", \"810501-1234568\"],\n",
    "    [\"박말이\", \"980501-1234569\"]\n",
    "]\n",
    "\n",
    "df = pd.DataFrame(data, columns=[\"이름\",\"주민번호\"])\n",
    "df[\"주민번호\"] = df[\"주민번호\"].apply(lambda x: replace_id(x))\n",
    "\n",
    "df"
   ]
  },
  {
   "cell_type": "code",
   "execution_count": 131,
   "metadata": {},
   "outputs": [
    {
     "data": {
      "text/plain": [
       "'900128-*******'"
      ]
     },
     "execution_count": 131,
     "metadata": {},
     "output_type": "execute_result"
    }
   ],
   "source": [
    "id = \"900128-1234566\"\n",
    "word = id\n",
    "if len(word) == 14 and word[:6].isdigit() and word[7:].isdigit():\n",
    "    word = word[:7] + \"*******\"\n",
    "word"
   ]
  },
  {
   "cell_type": "code",
   "execution_count": 134,
   "metadata": {},
   "outputs": [
    {
     "data": {
      "text/plain": [
       "'900128-*******'"
      ]
     },
     "execution_count": 134,
     "metadata": {},
     "output_type": "execute_result"
    }
   ],
   "source": [
    "def replace_id(id):\n",
    "    if len(id) == 14 and id[:6].isdigit() and id[7:].isdigit():\n",
    "        id = id[:7] + \"*******\"\n",
    "    return id\n",
    "\n",
    "\n",
    "replace_id(\"900128-1234566\")"
   ]
  },
  {
   "cell_type": "code",
   "execution_count": 4,
   "metadata": {},
   "outputs": [
    {
     "data": {
      "text/html": [
       "<div>\n",
       "<style scoped>\n",
       "    .dataframe tbody tr th:only-of-type {\n",
       "        vertical-align: middle;\n",
       "    }\n",
       "\n",
       "    .dataframe tbody tr th {\n",
       "        vertical-align: top;\n",
       "    }\n",
       "\n",
       "    .dataframe thead th {\n",
       "        text-align: right;\n",
       "    }\n",
       "</style>\n",
       "<table border=\"1\" class=\"dataframe\">\n",
       "  <thead>\n",
       "    <tr style=\"text-align: right;\">\n",
       "      <th></th>\n",
       "      <th>이름</th>\n",
       "      <th>주민번호</th>\n",
       "    </tr>\n",
       "  </thead>\n",
       "  <tbody>\n",
       "    <tr>\n",
       "      <th>0</th>\n",
       "      <td>김김밥</td>\n",
       "      <td>900128-*******</td>\n",
       "    </tr>\n",
       "    <tr>\n",
       "      <th>1</th>\n",
       "      <td>이열무</td>\n",
       "      <td>910318-*******</td>\n",
       "    </tr>\n",
       "    <tr>\n",
       "      <th>2</th>\n",
       "      <td>최냉면</td>\n",
       "      <td>810501-*******</td>\n",
       "    </tr>\n",
       "    <tr>\n",
       "      <th>3</th>\n",
       "      <td>박말이</td>\n",
       "      <td>980501-*******</td>\n",
       "    </tr>\n",
       "  </tbody>\n",
       "</table>\n",
       "</div>"
      ],
      "text/plain": [
       "    이름            주민번호\n",
       "0  김김밥  900128-*******\n",
       "1  이열무  910318-*******\n",
       "2  최냉면  810501-*******\n",
       "3  박말이  980501-*******"
      ]
     },
     "execution_count": 4,
     "metadata": {},
     "output_type": "execute_result"
    }
   ],
   "source": [
    "import re\n",
    "\n",
    "data = [\n",
    "    [\"김김밥\", \"900128-1234566\"],\n",
    "    [\"이열무\", \"910318-1234567\"],\n",
    "    [\"최냉면\", \"810501-1234568\"],\n",
    "    [\"박말이\", \"980501-1234569\"]\n",
    "]\n",
    "\n",
    "df = pd.DataFrame(data, columns=[\"이름\",\"주민번호\"])\n",
    "\n",
    "regx = re.compile(\"(\\d{6})[-]\\d{7}\")\n",
    "df[\"주민번호\"] = df[\"주민번호\"].apply(lambda x: regx.sub(\"\\g<1>-*******\", x))\n",
    "df"
   ]
  },
  {
   "cell_type": "code",
   "execution_count": 9,
   "metadata": {},
   "outputs": [
    {
     "data": {
      "text/plain": [
       "<re.Match object; span=(0, 1), match='b'>"
      ]
     },
     "execution_count": 9,
     "metadata": {},
     "output_type": "execute_result"
    }
   ],
   "source": [
    "import re\n",
    "regx = re.compile(\"[abc]\")\n",
    "m = regx.match(\"before\")\n",
    "m"
   ]
  },
  {
   "cell_type": "code",
   "execution_count": 3,
   "metadata": {},
   "outputs": [
    {
     "data": {
      "text/plain": [
       "<re.Match object; span=(11, 16), match='1@gma'>"
      ]
     },
     "execution_count": 3,
     "metadata": {},
     "output_type": "execute_result"
    }
   ],
   "source": [
    "# 정규식을 이용하여 올바른 이메일 형식인지 확인하기\n",
    "\n",
    "import re\n",
    "\n",
    "email_regex = re.compile(\"[A-Za-z0-9]@[A-Za-z0-9].[A-Za-z]\")\n",
    "\n",
    "email_input = \"yerang040231@gmail.com\"\n",
    "email_regex.search(email_input)"
   ]
  },
  {
   "cell_type": "code",
   "execution_count": 4,
   "metadata": {},
   "outputs": [
    {
     "data": {
      "text/plain": [
       "<re.Match object; span=(0, 13), match='010-4274-0974'>"
      ]
     },
     "execution_count": 4,
     "metadata": {},
     "output_type": "execute_result"
    }
   ],
   "source": [
    "# 정규식을 이용하여 전화번호 형식 확인하기\n",
    "\n",
    "phone_regex = re.compile(\"^(01)\\d{1}-\\d{3,4}-\\d{4}$\")\n",
    "phone_input = \"010-4274-0974\"\n",
    "phone_regex.search(phone_input)"
   ]
  },
  {
   "cell_type": "code",
   "execution_count": null,
   "metadata": {},
   "outputs": [],
   "source": []
  }
 ],
 "metadata": {
  "kernelspec": {
   "display_name": "Python 3",
   "language": "python",
   "name": "python3"
  },
  "language_info": {
   "codemirror_mode": {
    "name": "ipython",
    "version": 3
   },
   "file_extension": ".py",
   "mimetype": "text/x-python",
   "name": "python",
   "nbconvert_exporter": "python",
   "pygments_lexer": "ipython3",
   "version": "3.8.5"
  }
 },
 "nbformat": 4,
 "nbformat_minor": 4
}
