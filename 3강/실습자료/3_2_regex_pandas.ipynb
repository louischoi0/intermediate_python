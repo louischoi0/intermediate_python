{
 "cells": [
  {
   "cell_type": "code",
   "execution_count": 3,
   "id": "ad976f8b",
   "metadata": {},
   "outputs": [
    {
     "data": {
      "text/plain": [
       "'900128-*******'"
      ]
     },
     "execution_count": 3,
     "metadata": {},
     "output_type": "execute_result"
    }
   ],
   "source": [
    "def replace_id(id):\n",
    "    if len(id) == 14 and id[:6].isdigit() and id[7:].isdigit():\n",
    "        id = id[:7] + \"*******\"\n",
    "    return id\n",
    "\n",
    "\n",
    "replace_id(\"900128-1234566\")"
   ]
  },
  {
   "cell_type": "code",
   "execution_count": 4,
   "id": "0dbf15c8",
   "metadata": {},
   "outputs": [
    {
     "data": {
      "text/html": [
       "<div>\n",
       "<style scoped>\n",
       "    .dataframe tbody tr th:only-of-type {\n",
       "        vertical-align: middle;\n",
       "    }\n",
       "\n",
       "    .dataframe tbody tr th {\n",
       "        vertical-align: top;\n",
       "    }\n",
       "\n",
       "    .dataframe thead th {\n",
       "        text-align: right;\n",
       "    }\n",
       "</style>\n",
       "<table border=\"1\" class=\"dataframe\">\n",
       "  <thead>\n",
       "    <tr style=\"text-align: right;\">\n",
       "      <th></th>\n",
       "      <th>이름</th>\n",
       "      <th>주민번호</th>\n",
       "    </tr>\n",
       "  </thead>\n",
       "  <tbody>\n",
       "    <tr>\n",
       "      <th>0</th>\n",
       "      <td>김김밥</td>\n",
       "      <td>900128-*******</td>\n",
       "    </tr>\n",
       "    <tr>\n",
       "      <th>1</th>\n",
       "      <td>이열무</td>\n",
       "      <td>910318-*******</td>\n",
       "    </tr>\n",
       "    <tr>\n",
       "      <th>2</th>\n",
       "      <td>최냉면</td>\n",
       "      <td>810501-*******</td>\n",
       "    </tr>\n",
       "    <tr>\n",
       "      <th>3</th>\n",
       "      <td>박말이</td>\n",
       "      <td>980501-*******</td>\n",
       "    </tr>\n",
       "  </tbody>\n",
       "</table>\n",
       "</div>"
      ],
      "text/plain": [
       "    이름            주민번호\n",
       "0  김김밥  900128-*******\n",
       "1  이열무  910318-*******\n",
       "2  최냉면  810501-*******\n",
       "3  박말이  980501-*******"
      ]
     },
     "execution_count": 4,
     "metadata": {},
     "output_type": "execute_result"
    }
   ],
   "source": [
    "import pandas as pd\n",
    "\n",
    "data = [\n",
    "    [\"김김밥\", \"900128-1234566\"],\n",
    "    [\"이열무\", \"910318-1234567\"],\n",
    "    [\"최냉면\", \"810501-1234568\"],\n",
    "    [\"박말이\", \"980501-1234569\"]\n",
    "]\n",
    "\n",
    "df = pd.DataFrame(data, columns=[\"이름\",\"주민번호\"])\n",
    "df[\"주민번호\"] = df[\"주민번호\"].apply(lambda x: replace_id(x))\n",
    "\n",
    "df"
   ]
  },
  {
   "cell_type": "code",
   "execution_count": 5,
   "id": "5b76aa96",
   "metadata": {},
   "outputs": [
    {
     "data": {
      "text/html": [
       "<div>\n",
       "<style scoped>\n",
       "    .dataframe tbody tr th:only-of-type {\n",
       "        vertical-align: middle;\n",
       "    }\n",
       "\n",
       "    .dataframe tbody tr th {\n",
       "        vertical-align: top;\n",
       "    }\n",
       "\n",
       "    .dataframe thead th {\n",
       "        text-align: right;\n",
       "    }\n",
       "</style>\n",
       "<table border=\"1\" class=\"dataframe\">\n",
       "  <thead>\n",
       "    <tr style=\"text-align: right;\">\n",
       "      <th></th>\n",
       "      <th>이름</th>\n",
       "      <th>주민번호</th>\n",
       "    </tr>\n",
       "  </thead>\n",
       "  <tbody>\n",
       "    <tr>\n",
       "      <th>0</th>\n",
       "      <td>김김밥</td>\n",
       "      <td>900128-*******</td>\n",
       "    </tr>\n",
       "    <tr>\n",
       "      <th>1</th>\n",
       "      <td>이열무</td>\n",
       "      <td>910318-*******</td>\n",
       "    </tr>\n",
       "    <tr>\n",
       "      <th>2</th>\n",
       "      <td>최냉면</td>\n",
       "      <td>810501-*******</td>\n",
       "    </tr>\n",
       "    <tr>\n",
       "      <th>3</th>\n",
       "      <td>박말이</td>\n",
       "      <td>980501-*******</td>\n",
       "    </tr>\n",
       "  </tbody>\n",
       "</table>\n",
       "</div>"
      ],
      "text/plain": [
       "    이름            주민번호\n",
       "0  김김밥  900128-*******\n",
       "1  이열무  910318-*******\n",
       "2  최냉면  810501-*******\n",
       "3  박말이  980501-*******"
      ]
     },
     "execution_count": 5,
     "metadata": {},
     "output_type": "execute_result"
    }
   ],
   "source": [
    "import re\n",
    "\n",
    "data = [\n",
    "    [\"김김밥\", \"900128-1234566\"],\n",
    "    [\"이열무\", \"910318-1234567\"],\n",
    "    [\"최냉면\", \"810501-1234568\"],\n",
    "    [\"박말이\", \"980501-1234569\"]\n",
    "]\n",
    "\n",
    "df = pd.DataFrame(data, columns=[\"이름\",\"주민번호\"])\n",
    "\n",
    "regx = re.compile(\"(\\d{6})[-]\\d{7}\")\n",
    "df[\"주민번호\"] = df[\"주민번호\"].apply(lambda x: regx.sub(\"\\g<1>-*******\", x))\n",
    "df"
   ]
  },
  {
   "cell_type": "code",
   "execution_count": 6,
   "id": "cb202d23",
   "metadata": {},
   "outputs": [
    {
     "data": {
      "text/plain": [
       "<re.Match object; span=(0, 1), match='b'>"
      ]
     },
     "execution_count": 6,
     "metadata": {},
     "output_type": "execute_result"
    }
   ],
   "source": [
    "import re\n",
    "regx = re.compile(\"[abc]\")\n",
    "m = regx.match(\"before\")\n",
    "m"
   ]
  },
  {
   "cell_type": "code",
   "execution_count": 7,
   "id": "ae620fce",
   "metadata": {},
   "outputs": [
    {
     "data": {
      "text/plain": [
       "<re.Match object; span=(11, 16), match='1@gma'>"
      ]
     },
     "execution_count": 7,
     "metadata": {},
     "output_type": "execute_result"
    }
   ],
   "source": [
    "# 정규식을 이용하여 올바른 이메일 형식인지 확인하기\n",
    "\n",
    "import re\n",
    "\n",
    "email_regex = re.compile(\"[A-Za-z0-9]@[A-Za-z0-9].[A-Za-z]\")\n",
    "\n",
    "email_input = \"yerang040231@gmail.com\"\n",
    "email_regex.search(email_input)"
   ]
  },
  {
   "cell_type": "code",
   "execution_count": 8,
   "id": "7244ae9f",
   "metadata": {},
   "outputs": [
    {
     "data": {
      "text/plain": [
       "<re.Match object; span=(0, 13), match='010-4274-0974'>"
      ]
     },
     "execution_count": 8,
     "metadata": {},
     "output_type": "execute_result"
    }
   ],
   "source": [
    "# 정규식을 이용하여 전화번호 형식 확인하기\n",
    "\n",
    "phone_regex = re.compile(\"^(01)\\d{1}-\\d{3,4}-\\d{4}$\")\n",
    "phone_input = \"010-4274-0974\"\n",
    "phone_regex.search(phone_input)"
   ]
  }
 ],
 "metadata": {
  "kernelspec": {
   "display_name": "Python 3 (ipykernel)",
   "language": "python",
   "name": "python3"
  },
  "language_info": {
   "codemirror_mode": {
    "name": "ipython",
    "version": 3
   },
   "file_extension": ".py",
   "mimetype": "text/x-python",
   "name": "python",
   "nbconvert_exporter": "python",
   "pygments_lexer": "ipython3",
   "version": "3.8.9"
  }
 },
 "nbformat": 4,
 "nbformat_minor": 5
}
