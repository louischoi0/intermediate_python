{
 "cells": [
  {
   "cell_type": "markdown",
   "id": "6568bee2",
   "metadata": {},
   "source": [
    "# OS 모듈 사용해보기\n",
    "---"
   ]
  },
  {
   "cell_type": "code",
   "execution_count": 1,
   "id": "b8256d77",
   "metadata": {},
   "outputs": [
    {
     "data": {
      "text/plain": [
       "'/Users/louis/Downloads/강의자료_중급_파이썬 (2) 2/1강/실습자료'"
      ]
     },
     "execution_count": 1,
     "metadata": {},
     "output_type": "execute_result"
    }
   ],
   "source": [
    "import os\n",
    "\n",
    "# getcwd: 현재 작업 디렉토리를 반환 합니다.\n",
    "os.getcwd()"
   ]
  },
  {
   "cell_type": "code",
   "execution_count": 2,
   "id": "ef0d4a53",
   "metadata": {},
   "outputs": [
    {
     "data": {
      "text/plain": [
       "['GA.ipynb', '1_1.ipynb', '.ipynb_checkpoints', '1_2.ipynb', '1_0.ipynb']"
      ]
     },
     "execution_count": 2,
     "metadata": {},
     "output_type": "execute_result"
    }
   ],
   "source": [
    "import os\n",
    "\n",
    "# listdir: 디렉토리를 조회 합니다.\n",
    "os.listdir()\n"
   ]
  },
  {
   "cell_type": "code",
   "execution_count": 8,
   "id": "9920f0f9",
   "metadata": {},
   "outputs": [
    {
     "data": {
      "text/plain": [
       "['newdir',\n",
       " 'GA.ipynb',\n",
       " '1_1.ipynb',\n",
       " '.ipynb_checkpoints',\n",
       " '1_2.ipynb',\n",
       " '1_0.ipynb']"
      ]
     },
     "execution_count": 8,
     "metadata": {},
     "output_type": "execute_result"
    }
   ],
   "source": [
    "import os\n",
    "\n",
    "# mkdir: 새로운 디렉토리를 생성합니다.\n",
    "os.mkdir('newdir')\n",
    "os.listdir()"
   ]
  },
  {
   "cell_type": "code",
   "execution_count": 7,
   "id": "30cf10b1",
   "metadata": {},
   "outputs": [
    {
     "data": {
      "text/plain": [
       "['GA.ipynb', '1_1.ipynb', '.ipynb_checkpoints', '1_2.ipynb', '1_0.ipynb']"
      ]
     },
     "execution_count": 7,
     "metadata": {},
     "output_type": "execute_result"
    }
   ],
   "source": [
    "import os\n",
    "\n",
    "# removedirs: 디렉토리를 삭제합니다.\n",
    "os.removedirs('newdir')\n",
    "os.listdir()"
   ]
  },
  {
   "cell_type": "markdown",
   "id": "bdf84d98",
   "metadata": {},
   "source": [
    "# Datetime 모듈 사용해보기\n",
    "---"
   ]
  },
  {
   "cell_type": "code",
   "execution_count": 10,
   "id": "7fe41a9c",
   "metadata": {},
   "outputs": [
    {
     "data": {
      "text/plain": [
       "datetime.date(2022, 8, 11)"
      ]
     },
     "execution_count": 10,
     "metadata": {},
     "output_type": "execute_result"
    }
   ],
   "source": [
    "from datetime import date\n",
    "\n",
    "# year, month, day의 값을 표현하는 date 클래스를 생성합니다.\n",
    "date(2022, 8, 11)"
   ]
  },
  {
   "cell_type": "code",
   "execution_count": 13,
   "id": "dd274ea8",
   "metadata": {},
   "outputs": [
    {
     "data": {
      "text/plain": [
       "datetime.date(2022, 8, 6)"
      ]
     },
     "execution_count": 13,
     "metadata": {},
     "output_type": "execute_result"
    }
   ],
   "source": [
    "from datetime import date\n",
    "\n",
    "# date 클래스의 today 메소드를 사용하여 \n",
    "# 오늘 날짜값을 가지는 date 클래스를 생성합니다.\n",
    "date.today()"
   ]
  },
  {
   "cell_type": "code",
   "execution_count": 14,
   "id": "474a5d7b",
   "metadata": {},
   "outputs": [
    {
     "data": {
      "text/plain": [
       "'2022-08-06'"
      ]
     },
     "execution_count": 14,
     "metadata": {},
     "output_type": "execute_result"
    }
   ],
   "source": [
    "from datetime import date\n",
    "\n",
    "today = date.today()\n",
    "\n",
    "# isoformat 메소드를 사용하여 YYYY-mm-dd 포맷을 가지는 문자열로 변환합니다.\n",
    "today.isoformat()"
   ]
  },
  {
   "cell_type": "code",
   "execution_count": 15,
   "id": "b01a078a",
   "metadata": {},
   "outputs": [
    {
     "data": {
      "text/plain": [
       "datetime.date(2022, 8, 10)"
      ]
     },
     "execution_count": 15,
     "metadata": {},
     "output_type": "execute_result"
    }
   ],
   "source": [
    "from datetime import date\n",
    "\n",
    "# isoformat 메소드와 반대로 YYYY-mm-dd 문자열을 date 클래스로 변환합니다.\n",
    "date.fromisoformat('2022-08-10')"
   ]
  },
  {
   "cell_type": "code",
   "execution_count": 16,
   "id": "e125223f",
   "metadata": {},
   "outputs": [
    {
     "data": {
      "text/plain": [
       "datetime.time(7, 45, 10)"
      ]
     },
     "execution_count": 16,
     "metadata": {},
     "output_type": "execute_result"
    }
   ],
   "source": [
    "from datetime import time\n",
    "\n",
    "# hour, minutes, seconds 값을 표현하는\n",
    "# datetime 패키지의 time 클래스를 생성합니다. \n",
    "\n",
    "time(7, 45, 10)"
   ]
  },
  {
   "cell_type": "code",
   "execution_count": 17,
   "id": "8750c599",
   "metadata": {},
   "outputs": [
    {
     "data": {
      "text/plain": [
       "datetime.datetime(2022, 8, 10, 9, 30, 20)"
      ]
     },
     "execution_count": 17,
     "metadata": {},
     "output_type": "execute_result"
    }
   ],
   "source": [
    "from datetime import datetime\n",
    "\n",
    "# year, month, day\n",
    "# hour, minutes, seconds 값을 표현하는\n",
    "# datetime 클래스를 생성합니다.\n",
    "datetime(2022, 8, 10, 9, 30, 20)"
   ]
  },
  {
   "cell_type": "code",
   "execution_count": 19,
   "id": "0ef1556e",
   "metadata": {},
   "outputs": [
    {
     "data": {
      "text/plain": [
       "datetime.datetime(2022, 8, 6, 18, 34, 8, 502782)"
      ]
     },
     "execution_count": 19,
     "metadata": {},
     "output_type": "execute_result"
    }
   ],
   "source": [
    "from datetime import datetime, timezone\n",
    "\n",
    "# now 함수를 이용하여 현재 시각을 표현하는 datetime 클래스를 생성합니다.\n",
    "datetime.now()"
   ]
  },
  {
   "cell_type": "code",
   "execution_count": 20,
   "id": "12ae5277",
   "metadata": {},
   "outputs": [
    {
     "data": {
      "text/plain": [
       "datetime.datetime(2022, 8, 6, 9, 34, 29, 766658, tzinfo=datetime.timezone.utc)"
      ]
     },
     "execution_count": 20,
     "metadata": {},
     "output_type": "execute_result"
    }
   ],
   "source": [
    "from datetime import datetime, timezone\n",
    "\n",
    "# 시간대 설정을 변경할 수 있습니다.\n",
    "datetime.now(timezone.utc)"
   ]
  },
  {
   "cell_type": "code",
   "execution_count": 21,
   "id": "d9275707",
   "metadata": {},
   "outputs": [
    {
     "data": {
      "text/plain": [
       "datetime.datetime(2022, 8, 10, 0, 0)"
      ]
     },
     "execution_count": 21,
     "metadata": {},
     "output_type": "execute_result"
    }
   ],
   "source": [
    "from datetime import datetime\n",
    "\n",
    "# strptime 함수에\n",
    "# 문자열과 시간 표현 포맷을 인자로 전달하여 datetime 클래스를 생성합니다.\n",
    "datetime.strptime('2022-08-10', '%Y-%m-%d')"
   ]
  },
  {
   "cell_type": "markdown",
   "id": "6d077a57",
   "metadata": {},
   "source": [
    "# 시간 포맷에 대해서 알아봅시다.\n",
    "---\n",
    "\n",
    "날짜 정보를 표현하는 방법은 여러가지 입니다.  \n",
    "문화권 마다 날짜 표기 방법이 다르기도 하고요.  \n",
    "어떤사람은 \"2022년 8월 12일\"이라고 쓰기도 하고 어떤 사람은 \"2022-08-12\"이라고 쓰기도 하지요.  \n",
    "따라서 날짜 정보를 표현하는 데이터를 생성하기 위해서는 먼저 시간 포맷을 정의할 필요가 있습니다.\n",
    "\n",
    "- 연도: %Y\n",
    "- 월: %m\n",
    "- 일: %d\n",
    "- 시: %H(0~24)\n",
    "- 분: %M\n",
    "- 초: %S\n",
    "\n",
    "만약 datetime클래스를 \"2022/08/12 16:55:21\" 형태의 문자열로 변경하고 싶다면\n",
    "아래와 같이 strftime 함수를 호출하면 됩니다.\n",
    "\n",
    "dt.strftime(\"%Y/%m/%d %H:%M:%s\")"
   ]
  },
  {
   "cell_type": "code",
   "execution_count": 25,
   "id": "31a3050f",
   "metadata": {},
   "outputs": [
    {
     "data": {
      "text/plain": [
       "'2022/08/06 18:45:58'"
      ]
     },
     "execution_count": 25,
     "metadata": {},
     "output_type": "execute_result"
    }
   ],
   "source": [
    "from datetime import datetime\n",
    "\n",
    "# now 함수를 이용하여 현재 시각을 표현하는 datetime 클래스를 생성합니다.\n",
    "datetime.now().strftime(\"%Y/%m/%d %H:%M:%S\")"
   ]
  },
  {
   "cell_type": "code",
   "execution_count": 26,
   "id": "1c1eb3df",
   "metadata": {},
   "outputs": [
    {
     "data": {
      "text/plain": [
       "datetime.timedelta(days=5, seconds=63000)"
      ]
     },
     "execution_count": 26,
     "metadata": {},
     "output_type": "execute_result"
    }
   ],
   "source": [
    "from datetime import timedelta\n",
    "\n",
    "# timedelta를 이용해 시간의 duration 개념을 표현\n",
    "timedelta(days=5, hours=17, minutes=30)"
   ]
  },
  {
   "cell_type": "markdown",
   "id": "58c6ca39",
   "metadata": {},
   "source": [
    "# timedelta 클래스를 이용한 날짜 연산하기\n",
    "---"
   ]
  },
  {
   "cell_type": "code",
   "execution_count": 27,
   "id": "a35d1639",
   "metadata": {},
   "outputs": [
    {
     "data": {
      "text/plain": [
       "datetime.date(2022, 8, 13)"
      ]
     },
     "execution_count": 27,
     "metadata": {},
     "output_type": "execute_result"
    }
   ],
   "source": [
    "from datetime import date, timedelta\n",
    "\n",
    "today = date.today()\n",
    "today + timedelta(weeks=1)"
   ]
  },
  {
   "cell_type": "code",
   "execution_count": 30,
   "id": "15936357",
   "metadata": {},
   "outputs": [
    {
     "data": {
      "text/plain": [
       "True"
      ]
     },
     "execution_count": 30,
     "metadata": {},
     "output_type": "execute_result"
    }
   ],
   "source": [
    "from datetime import date, timedelta\n",
    "\n",
    "date(2020, 7, 25)\n",
    "\n",
    "one_week = timedelta(weeks=1)\n",
    "two_weeks = one_week * 2\n",
    "one_week < two_weeks"
   ]
  },
  {
   "cell_type": "code",
   "execution_count": 32,
   "id": "43fbeae2",
   "metadata": {},
   "outputs": [
    {
     "data": {
      "text/plain": [
       "True"
      ]
     },
     "execution_count": 32,
     "metadata": {},
     "output_type": "execute_result"
    }
   ],
   "source": [
    "one_week == timedelta(days=7)"
   ]
  },
  {
   "cell_type": "markdown",
   "id": "dcd62aab",
   "metadata": {},
   "source": [
    "# random 모듈 사용해보기\n",
    "---"
   ]
  },
  {
   "cell_type": "code",
   "execution_count": 33,
   "id": "d7f48923",
   "metadata": {},
   "outputs": [
    {
     "data": {
      "text/plain": [
       "0.37243659208941704"
      ]
     },
     "execution_count": 33,
     "metadata": {},
     "output_type": "execute_result"
    }
   ],
   "source": [
    "import random\n",
    "\n",
    "random.random()        # 0과 1 사이의 임의값을 생성합니다."
   ]
  },
  {
   "cell_type": "code",
   "execution_count": null,
   "id": "dc7bb002",
   "metadata": {},
   "outputs": [],
   "source": [
    "import random\n",
    "\n",
    "# 1부터 10사이의 임의값을 생성합니다.\n",
    "random.uniform(1, 10)"
   ]
  },
  {
   "cell_type": "code",
   "execution_count": 34,
   "id": "74693e8d",
   "metadata": {},
   "outputs": [
    {
     "data": {
      "text/plain": [
       "4"
      ]
     },
     "execution_count": 34,
     "metadata": {},
     "output_type": "execute_result"
    }
   ],
   "source": [
    "import random\n",
    "\n",
    "# 1부터 10까지의 임의의 정수값을 생성합니다.\n",
    "random.randint(1, 10) "
   ]
  },
  {
   "cell_type": "code",
   "execution_count": 35,
   "id": "0220c132",
   "metadata": {},
   "outputs": [
    {
     "data": {
      "text/plain": [
       "'f'"
      ]
     },
     "execution_count": 35,
     "metadata": {},
     "output_type": "execute_result"
    }
   ],
   "source": [
    "import random\n",
    "\n",
    "# 임의의 한 원소를 선택합니다.\n",
    "random.choice('abcdefghij')"
   ]
  },
  {
   "cell_type": "code",
   "execution_count": 38,
   "id": "eddde539",
   "metadata": {},
   "outputs": [
    {
     "data": {
      "text/plain": [
       "3"
      ]
     },
     "execution_count": 38,
     "metadata": {},
     "output_type": "execute_result"
    }
   ],
   "source": [
    "import random\n",
    "random.choice([1,2,3,4,5,6])"
   ]
  },
  {
   "cell_type": "code",
   "execution_count": 39,
   "id": "a4eb03a5",
   "metadata": {},
   "outputs": [
    {
     "data": {
      "text/plain": [
       "[6, 2, 5]"
      ]
     },
     "execution_count": 39,
     "metadata": {},
     "output_type": "execute_result"
    }
   ],
   "source": [
    "import random\n",
    "\n",
    "# k개의 원소로 샘플링합니다.\n",
    "random.sample([0, 1, 2, 3, 4, 5, 6],  3) "
   ]
  },
  {
   "cell_type": "code",
   "execution_count": 45,
   "id": "c83af7d1",
   "metadata": {},
   "outputs": [
    {
     "data": {
      "text/plain": [
       "[1, 5, 4, 3, 6, 7, 2]"
      ]
     },
     "execution_count": 45,
     "metadata": {},
     "output_type": "execute_result"
    }
   ],
   "source": [
    "import random\n",
    "\n",
    "items = [1, 2, 3, 4, 5, 6, 7]\n",
    "\n",
    "# shuffle 함수를 이용해 배열을 마구 섞습니다.\n",
    "random.shuffle(items)\n",
    "\n",
    "items"
   ]
  },
  {
   "cell_type": "markdown",
   "id": "a1ac755c",
   "metadata": {},
   "source": [
    "# 실습 1\n",
    "---\n",
    "\n",
    "datetime 모듈과 os 모듈을 이용해 현재날짜에서 7일 이전 부터 YYYYMMDD 포맷의 문자열을 이름으로 하는 폴더를 7개 생성해보세요."
   ]
  }
 ],
 "metadata": {
  "kernelspec": {
   "display_name": "Python 3 (ipykernel)",
   "language": "python",
   "name": "python3"
  },
  "language_info": {
   "codemirror_mode": {
    "name": "ipython",
    "version": 3
   },
   "file_extension": ".py",
   "mimetype": "text/x-python",
   "name": "python",
   "nbconvert_exporter": "python",
   "pygments_lexer": "ipython3",
   "version": "3.8.9"
  }
 },
 "nbformat": 4,
 "nbformat_minor": 5
}
