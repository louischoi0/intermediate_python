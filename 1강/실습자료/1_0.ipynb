{
 "cells": [
  {
   "cell_type": "markdown",
   "id": "6568bee2",
   "metadata": {},
   "source": [
    "# OS 모듈 사용해보기\n",
    "---"
   ]
  },
  {
   "cell_type": "code",
   "execution_count": 1,
   "id": "b8256d77",
   "metadata": {},
   "outputs": [
    {
     "data": {
      "text/plain": [
       "'C:\\\\intermediate_python\\\\1강\\\\실습자료'"
      ]
     },
     "execution_count": 1,
     "metadata": {},
     "output_type": "execute_result"
    }
   ],
   "source": [
    "import os\n",
    "\n",
    "# getcwd: 현재 작업 디렉토리를 반환 합니다.\n",
    "os.getcwd()"
   ]
  },
  {
   "cell_type": "code",
   "execution_count": 4,
   "id": "ef0d4a53",
   "metadata": {},
   "outputs": [
    {
     "data": {
      "text/plain": [
       "['.ipynb_checkpoints',\n",
       " '1_0.ipynb',\n",
       " '1_0_0_slot_machine.py.ipynb',\n",
       " '1_0_1_csv_module_practice.ipynb',\n",
       " '1_1.ipynb',\n",
       " '1_2.ipynb',\n",
       " '1_4.ipynb',\n",
       " 'data.csv',\n",
       " 'GA.ipynb',\n",
       " 'newdir',\n",
       " 'output.csv',\n",
       " 'output_tab.csv']"
      ]
     },
     "execution_count": 4,
     "metadata": {},
     "output_type": "execute_result"
    }
   ],
   "source": [
    "import os\n",
    "\n",
    "# listdir: 디렉토리를 조회 합니다.\n",
    "os.listdir()\n"
   ]
  },
  {
   "cell_type": "code",
   "execution_count": 3,
   "id": "9920f0f9",
   "metadata": {},
   "outputs": [
    {
     "data": {
      "text/plain": [
       "['.ipynb_checkpoints',\n",
       " '1_0.ipynb',\n",
       " '1_0_0_slot_machine.py.ipynb',\n",
       " '1_0_1_csv_module_practice.ipynb',\n",
       " '1_1.ipynb',\n",
       " '1_2.ipynb',\n",
       " '1_4.ipynb',\n",
       " 'data.csv',\n",
       " 'GA.ipynb',\n",
       " 'newdir',\n",
       " 'output.csv',\n",
       " 'output_tab.csv']"
      ]
     },
     "execution_count": 3,
     "metadata": {},
     "output_type": "execute_result"
    }
   ],
   "source": [
    "import os\n",
    "\n",
    "# mkdir: 새로운 디렉토리를 생성합니다.\n",
    "os.mkdir('newdir')\n",
    "os.listdir()"
   ]
  },
  {
   "cell_type": "code",
   "execution_count": null,
   "id": "8547c629",
   "metadata": {},
   "outputs": [],
   "source": []
  },
  {
   "cell_type": "code",
   "execution_count": 5,
   "id": "30cf10b1",
   "metadata": {},
   "outputs": [
    {
     "data": {
      "text/plain": [
       "['.ipynb_checkpoints',\n",
       " '1_0.ipynb',\n",
       " '1_0_0_slot_machine.py.ipynb',\n",
       " '1_0_1_csv_module_practice.ipynb',\n",
       " '1_1.ipynb',\n",
       " '1_2.ipynb',\n",
       " '1_4.ipynb',\n",
       " 'data.csv',\n",
       " 'GA.ipynb',\n",
       " 'output.csv',\n",
       " 'output_tab.csv']"
      ]
     },
     "execution_count": 5,
     "metadata": {},
     "output_type": "execute_result"
    }
   ],
   "source": [
    "import os\n",
    "\n",
    "# removedirs: 디렉토리를 삭제합니다.\n",
    "os.removedirs('newdir')\n",
    "os.listdir()"
   ]
  },
  {
   "cell_type": "code",
   "execution_count": null,
   "id": "06cbb2df",
   "metadata": {},
   "outputs": [],
   "source": []
  },
  {
   "cell_type": "markdown",
   "id": "bdf84d98",
   "metadata": {},
   "source": [
    "# Datetime 모듈 사용해보기\n",
    "---"
   ]
  },
  {
   "cell_type": "code",
   "execution_count": 7,
   "id": "7fe41a9c",
   "metadata": {},
   "outputs": [
    {
     "data": {
      "text/plain": [
       "datetime.date(2022, 8, 8)"
      ]
     },
     "execution_count": 7,
     "metadata": {},
     "output_type": "execute_result"
    }
   ],
   "source": [
    "from datetime import date\n",
    "\n",
    "# year, month, day의 값을 표현하는 date 클래스를 생성합니다.\n",
    "date(2022, 8, 8)"
   ]
  },
  {
   "cell_type": "code",
   "execution_count": 8,
   "id": "dd274ea8",
   "metadata": {},
   "outputs": [
    {
     "data": {
      "text/plain": [
       "datetime.date(2022, 8, 8)"
      ]
     },
     "execution_count": 8,
     "metadata": {},
     "output_type": "execute_result"
    }
   ],
   "source": [
    "from datetime import date\n",
    "\n",
    "# date 클래스의 today 메소드를 사용하여 \n",
    "# 오늘 날짜값을 가지는 date 클래스를 생성합니다.\n",
    "date.today()"
   ]
  },
  {
   "cell_type": "code",
   "execution_count": 10,
   "id": "474a5d7b",
   "metadata": {},
   "outputs": [
    {
     "data": {
      "text/plain": [
       "'2022-08-08'"
      ]
     },
     "execution_count": 10,
     "metadata": {},
     "output_type": "execute_result"
    }
   ],
   "source": [
    "from datetime import date\n",
    "\n",
    "today = date.today()\n",
    "\n",
    "# isoformat 메소드를 사용하여 YYYY-mm-dd 포맷을 가지는 문자열로 변환합니다.\n",
    "today.isoformat()"
   ]
  },
  {
   "cell_type": "code",
   "execution_count": 11,
   "id": "b01a078a",
   "metadata": {},
   "outputs": [
    {
     "data": {
      "text/plain": [
       "datetime.date(2022, 8, 8)"
      ]
     },
     "execution_count": 11,
     "metadata": {},
     "output_type": "execute_result"
    }
   ],
   "source": [
    "from datetime import date\n",
    "\n",
    "# isoformat 메소드와 반대로 YYYY-mm-dd 문자열을 date 클래스로 변환합니다.\n",
    "date.fromisoformat('2022-08-08')"
   ]
  },
  {
   "cell_type": "code",
   "execution_count": 16,
   "id": "e125223f",
   "metadata": {},
   "outputs": [
    {
     "data": {
      "text/plain": [
       "datetime.time(9, 20, 30)"
      ]
     },
     "execution_count": 16,
     "metadata": {},
     "output_type": "execute_result"
    }
   ],
   "source": [
    "from datetime import time\n",
    "\n",
    "# hour, minutes, seconds 값을 표현하는\n",
    "# datetime 패키지의 time 클래스를 생성합니다. \n",
    "\n",
    "time(9, 20, 30)"
   ]
  },
  {
   "cell_type": "code",
   "execution_count": 18,
   "id": "8750c599",
   "metadata": {},
   "outputs": [
    {
     "data": {
      "text/plain": [
       "datetime.datetime(2022, 8, 8, 9, 20, 20)"
      ]
     },
     "execution_count": 18,
     "metadata": {},
     "output_type": "execute_result"
    }
   ],
   "source": [
    "from datetime import datetime\n",
    "\n",
    "# year, month, day\n",
    "# hour, minutes, seconds 값을 표현하는\n",
    "# datetime 클래스를 생성합니다.\n",
    "datetime(2022, 8, 8, 9, 20, 20)"
   ]
  },
  {
   "cell_type": "code",
   "execution_count": 39,
   "id": "0ef1556e",
   "metadata": {},
   "outputs": [
    {
     "data": {
      "text/plain": [
       "datetime.datetime(2022, 8, 8, 9, 20, 15, 432087)"
      ]
     },
     "execution_count": 39,
     "metadata": {},
     "output_type": "execute_result"
    }
   ],
   "source": [
    "from datetime import datetime, timezone\n",
    "\n",
    "# now 함수를 이용하여 현재 시각을 표현하는 datetime 클래스를 생성합니다.\n",
    "datetime.now()"
   ]
  },
  {
   "cell_type": "code",
   "execution_count": 46,
   "id": "12ae5277",
   "metadata": {},
   "outputs": [
    {
     "data": {
      "text/plain": [
       "datetime.datetime(2022, 8, 8, 0, 20, 58, 919679, tzinfo=datetime.timezone.utc)"
      ]
     },
     "execution_count": 46,
     "metadata": {},
     "output_type": "execute_result"
    }
   ],
   "source": [
    "from datetime import datetime, timezone\n",
    "\n",
    "# 시간대 설정을 변경할 수 있습니다.\n",
    "datetime.now(timezone.utc)"
   ]
  },
  {
   "cell_type": "code",
   "execution_count": 48,
   "id": "d9275707",
   "metadata": {},
   "outputs": [
    {
     "data": {
      "text/plain": [
       "datetime.datetime(2022, 8, 8, 0, 0)"
      ]
     },
     "execution_count": 48,
     "metadata": {},
     "output_type": "execute_result"
    }
   ],
   "source": [
    "from datetime import datetime\n",
    "\n",
    "# strptime 함수에\n",
    "# 문자열과 시간 표현 포맷을 인자로 전달하여 datetime 클래스를 생성합니다.\n",
    "\n",
    "datetime.strptime(\"2022-08-22\", \"%Y-%m-%d\")\n",
    "datetime.strptime('08-08/2022', \"%m-%d/%Y\")"
   ]
  },
  {
   "cell_type": "code",
   "execution_count": null,
   "id": "a26f3935",
   "metadata": {},
   "outputs": [],
   "source": []
  },
  {
   "cell_type": "markdown",
   "id": "6d077a57",
   "metadata": {},
   "source": [
    "# 시간 포맷에 대해서 알아봅시다.\n",
    "---\n",
    "\n",
    "날짜 정보를 표현하는 방법은 여러가지 입니다.  \n",
    "문화권 마다 날짜 표기 방법이 다르기도 하고요.  \n",
    "어떤사람은 \"2022년 8월 12일\"이라고 쓰기도 하고 어떤 사람은 \"2022-08-12\"이라고 쓰기도 하지요.  \n",
    "따라서 날짜 정보를 표현하는 데이터를 생성하기 위해서는 먼저 시간 포맷을 정의할 필요가 있습니다.\n",
    "\n",
    "- 연도: %Y\n",
    "- 월: %m\n",
    "- 일: %d\n",
    "- 시: %H(0~24)\n",
    "- 분: %M\n",
    "- 초: %S\n",
    "\n",
    "만약 datetime클래스를 \"2022/08/12 16:55:21\" 형태의 문자열로 변경하고 싶다면\n",
    "아래와 같이 strftime 함수를 호출하면 됩니다.\n",
    "\n",
    "dt.strftime(\"%Y/%m/%d %H:%M:%s\")"
   ]
  },
  {
   "cell_type": "code",
   "execution_count": 49,
   "id": "31a3050f",
   "metadata": {},
   "outputs": [
    {
     "data": {
      "text/plain": [
       "'2022/08/08 09:26:11'"
      ]
     },
     "execution_count": 49,
     "metadata": {},
     "output_type": "execute_result"
    }
   ],
   "source": [
    "from datetime import datetime\n",
    "\n",
    "# now 함수를 이용하여 현재 시각을 표현하는 datetime 클래스를 생성합니다.\n",
    "datetime.now().strftime(\"%Y/%m/%d %H:%M:%S\")"
   ]
  },
  {
   "cell_type": "code",
   "execution_count": 57,
   "id": "bf7c91fb",
   "metadata": {},
   "outputs": [
    {
     "data": {
      "text/plain": [
       "'20220808'"
      ]
     },
     "execution_count": 57,
     "metadata": {},
     "output_type": "execute_result"
    }
   ],
   "source": [
    "date.today().strftime(\"%Y%m%d\")"
   ]
  },
  {
   "cell_type": "code",
   "execution_count": 62,
   "id": "102d51f6",
   "metadata": {},
   "outputs": [
    {
     "name": "stdout",
     "output_type": "stream",
     "text": [
      "20220807\n",
      "20220806\n",
      "20220805\n",
      "20220804\n",
      "20220803\n",
      "20220802\n",
      "20220801\n"
     ]
    }
   ],
   "source": [
    "import os\n",
    "\n",
    "for i in range(1,8):\n",
    "    d = date.today() - timedelta(days=i)\n",
    "    folder_name = d.strftime(\"%Y%m%d\")\n",
    "    os.removedirs(folder_name)\n",
    "    print(folder_name)"
   ]
  },
  {
   "cell_type": "code",
   "execution_count": null,
   "id": "88a48df3",
   "metadata": {},
   "outputs": [],
   "source": []
  },
  {
   "cell_type": "markdown",
   "id": "58c6ca39",
   "metadata": {},
   "source": [
    "# timedelta 클래스를 이용한 날짜 연산하기\n",
    "---"
   ]
  },
  {
   "cell_type": "code",
   "execution_count": 52,
   "id": "1c1eb3df",
   "metadata": {},
   "outputs": [
    {
     "data": {
      "text/plain": [
       "datetime.datetime(2022, 7, 27, 22, 28, 56, 760186)"
      ]
     },
     "execution_count": 52,
     "metadata": {},
     "output_type": "execute_result"
    }
   ],
   "source": [
    "from datetime import timedelta\n",
    "\n",
    "# timedelta를 이용해 시간의 duration 개념을 표현\n",
    "delta = timedelta(days=5, hours=17, minutes=30)\n",
    "datetime.now() - ( 2 * delta )"
   ]
  },
  {
   "cell_type": "code",
   "execution_count": 53,
   "id": "a35d1639",
   "metadata": {},
   "outputs": [
    {
     "data": {
      "text/plain": [
       "datetime.date(2022, 8, 15)"
      ]
     },
     "execution_count": 53,
     "metadata": {},
     "output_type": "execute_result"
    }
   ],
   "source": [
    "from datetime import date, timedelta\n",
    "\n",
    "today = date.today()\n",
    "today + timedelta(weeks=1, hours=7)"
   ]
  },
  {
   "cell_type": "code",
   "execution_count": 54,
   "id": "15936357",
   "metadata": {},
   "outputs": [
    {
     "data": {
      "text/plain": [
       "True"
      ]
     },
     "execution_count": 54,
     "metadata": {},
     "output_type": "execute_result"
    }
   ],
   "source": [
    "from datetime import date, timedelta\n",
    "\n",
    "date(2020, 7, 25)\n",
    "\n",
    "one_week = timedelta(weeks=1)\n",
    "two_weeks = one_week * 2\n",
    "one_week < two_weeks"
   ]
  },
  {
   "cell_type": "code",
   "execution_count": 32,
   "id": "43fbeae2",
   "metadata": {},
   "outputs": [
    {
     "data": {
      "text/plain": [
       "True"
      ]
     },
     "execution_count": 32,
     "metadata": {},
     "output_type": "execute_result"
    }
   ],
   "source": [
    "one_week == timedelta(days=7)"
   ]
  },
  {
   "cell_type": "markdown",
   "id": "dcd62aab",
   "metadata": {},
   "source": [
    "# random 모듈 사용해보기\n",
    "---"
   ]
  },
  {
   "cell_type": "code",
   "execution_count": 76,
   "id": "d7f48923",
   "metadata": {},
   "outputs": [
    {
     "data": {
      "text/plain": [
       "0.47878035397059404"
      ]
     },
     "execution_count": 76,
     "metadata": {},
     "output_type": "execute_result"
    }
   ],
   "source": [
    "import random\n",
    "\n",
    "random.random()        # 0과 1 사이의 임의값을 생성합니다."
   ]
  },
  {
   "cell_type": "code",
   "execution_count": 86,
   "id": "dc7bb002",
   "metadata": {},
   "outputs": [
    {
     "data": {
      "text/plain": [
       "7.776435222453583"
      ]
     },
     "execution_count": 86,
     "metadata": {},
     "output_type": "execute_result"
    }
   ],
   "source": [
    "import random\n",
    "\n",
    "# 1부터 10사이의 임의값을 생성합니다.\n",
    "random.uniform(1, 10)"
   ]
  },
  {
   "cell_type": "code",
   "execution_count": 98,
   "id": "74693e8d",
   "metadata": {},
   "outputs": [
    {
     "data": {
      "text/plain": [
       "45"
      ]
     },
     "execution_count": 98,
     "metadata": {},
     "output_type": "execute_result"
    }
   ],
   "source": [
    "import random\n",
    "\n",
    "# 1부터 10까지의 임의의 정수값을 생성합니다.\n",
    "random.randint(1, 100) "
   ]
  },
  {
   "cell_type": "code",
   "execution_count": 106,
   "id": "0220c132",
   "metadata": {},
   "outputs": [
    {
     "data": {
      "text/plain": [
       "'f'"
      ]
     },
     "execution_count": 106,
     "metadata": {},
     "output_type": "execute_result"
    }
   ],
   "source": [
    "import random\n",
    "\n",
    "# 임의의 한 원소를 선택합니다.\n",
    "random.choice('abcdefghij')"
   ]
  },
  {
   "cell_type": "code",
   "execution_count": 139,
   "id": "03e8351e",
   "metadata": {},
   "outputs": [
    {
     "data": {
      "text/plain": [
       "['a', 'c']"
      ]
     },
     "execution_count": 139,
     "metadata": {},
     "output_type": "execute_result"
    }
   ],
   "source": [
    "from random import randint\n",
    "\n",
    "def sample(input_str, n):\n",
    "    res = []\n",
    "    \n",
    "    while len(res) < n :\n",
    "        \n",
    "        random_idx = randint(0, len(input_str) - 1)\n",
    "        value = input_str[random_idx]\n",
    "        \n",
    "        if value in res:\n",
    "            continue\n",
    "        \n",
    "        else:\n",
    "            res.append(value)\n",
    "        \n",
    "    return res\n",
    "\n",
    "sample('abcdefg', 2)"
   ]
  },
  {
   "cell_type": "code",
   "execution_count": 38,
   "id": "eddde539",
   "metadata": {},
   "outputs": [
    {
     "data": {
      "text/plain": [
       "3"
      ]
     },
     "execution_count": 38,
     "metadata": {},
     "output_type": "execute_result"
    }
   ],
   "source": [
    "import random\n",
    "random.choice([1,2,3,4,5,6])"
   ]
  },
  {
   "cell_type": "code",
   "execution_count": 145,
   "id": "a4eb03a5",
   "metadata": {},
   "outputs": [
    {
     "data": {
      "text/plain": [
       "[5, 2, 0]"
      ]
     },
     "execution_count": 145,
     "metadata": {},
     "output_type": "execute_result"
    }
   ],
   "source": [
    "import random\n",
    "\n",
    "# k개의 원소로 샘플링합니다.\n",
    "random.sample([0, 1, 2, 3, 4, 5, 6],  3) "
   ]
  },
  {
   "cell_type": "code",
   "execution_count": 149,
   "id": "c83af7d1",
   "metadata": {},
   "outputs": [
    {
     "data": {
      "text/plain": [
       "[1, 2, 5, 4, 6, 3, 7]"
      ]
     },
     "execution_count": 149,
     "metadata": {},
     "output_type": "execute_result"
    }
   ],
   "source": [
    "import random\n",
    "\n",
    "items = [1, 2, 3, 4, 5, 6, 7]\n",
    "\n",
    "# shuffle 함수를 이용해 배열을 마구 섞습니다.\n",
    "random.shuffle(items)\n",
    "\n",
    "items"
   ]
  },
  {
   "cell_type": "markdown",
   "id": "a1ac755c",
   "metadata": {},
   "source": [
    "# 실습 1\n",
    "---\n",
    "\n",
    "datetime 모듈과 os 모듈을 이용해 현재날짜에서 7일 이전 부터 YYYYMMDD 포맷의 문자열을 이름으로 하는 폴더를 7개 생성해보세요."
   ]
  },
  {
   "cell_type": "markdown",
   "id": "19b4262c",
   "metadata": {},
   "source": [
    "# 실습 2\n",
    "---\n",
    "\n",
    "1월 부터 8월까지 YYYYMM 형식으로 디렉토리를 생성한후 \n",
    "하위 디렉토리로 1부터 10일까지 YYYYMMDD 포맷의 문자열을 이름으로 하여 생성해봅시다."
   ]
  },
  {
   "cell_type": "code",
   "execution_count": null,
   "id": "34e7da85",
   "metadata": {},
   "outputs": [],
   "source": []
  }
 ],
 "metadata": {
  "kernelspec": {
   "display_name": "Python 3 (ipykernel)",
   "language": "python",
   "name": "python3"
  },
  "language_info": {
   "codemirror_mode": {
    "name": "ipython",
    "version": 3
   },
   "file_extension": ".py",
   "mimetype": "text/x-python",
   "name": "python",
   "nbconvert_exporter": "python",
   "pygments_lexer": "ipython3",
   "version": "3.10.6"
  }
 },
 "nbformat": 4,
 "nbformat_minor": 5
}
