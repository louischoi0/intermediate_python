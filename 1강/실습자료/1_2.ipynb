{
 "cells": [
  {
   "cell_type": "code",
   "execution_count": 7,
   "metadata": {},
   "outputs": [],
   "source": [
    "def for_each_print(input_arr, func):\n",
    "    result_arr = []\n",
    "    for element in input_arr:\n",
    "        result = func(element)\n",
    "        result_arr.append(result)\n",
    "        print(result)\n",
    "    return result_arr"
   ]
  },
  {
   "cell_type": "code",
   "execution_count": 29,
   "metadata": {},
   "outputs": [
    {
     "name": "stdout",
     "output_type": "stream",
     "text": [
      "2\n",
      "-4\n",
      "6\n",
      "-8\n",
      "10\n",
      "20\n",
      "-40\n"
     ]
    },
    {
     "data": {
      "text/plain": [
       "[1, -2, 3, -4, 5, 10, -20]"
      ]
     },
     "execution_count": 29,
     "metadata": {},
     "output_type": "execute_result"
    }
   ],
   "source": [
    "input_arr = [ 1, - 2, 3, -4, 5, 10, -20 ]\n",
    "\n",
    "def double(x):\n",
    "    return x * 2\n",
    "\n",
    "for_each_print(input_arr, double)\n",
    "input_arr"
   ]
  },
  {
   "cell_type": "code",
   "execution_count": 13,
   "metadata": {},
   "outputs": [
    {
     "name": "stdout",
     "output_type": "stream",
     "text": [
      "-9\n",
      "-12\n",
      "-7\n",
      "-14\n",
      "-5\n",
      "0\n",
      "-30\n"
     ]
    },
    {
     "data": {
      "text/plain": [
       "[-9, -12, -7, -14, -5, 0, -30]"
      ]
     },
     "execution_count": 13,
     "metadata": {},
     "output_type": "execute_result"
    }
   ],
   "source": [
    "input_arr = [ 1, - 2, 3, -4, 5, 10, -20 ]\n",
    "\n",
    "def minus(x):\n",
    "    return x - 10\n",
    "\n",
    "for_each_print(input_arr, minus)"
   ]
  },
  {
   "cell_type": "code",
   "execution_count": 14,
   "metadata": {},
   "outputs": [
    {
     "name": "stdout",
     "output_type": "stream",
     "text": [
      "0\n",
      "1\n",
      "2\n",
      "3\n",
      "4\n"
     ]
    },
    {
     "data": {
      "text/plain": [
       "[0, 1, 2, 3, 4]"
      ]
     },
     "execution_count": 14,
     "metadata": {},
     "output_type": "execute_result"
    }
   ],
   "source": [
    "input_arr = [ 1,2,3,4,5 ]\n",
    "\n",
    "def dec(x):\n",
    "    return x - 1\n",
    "\n",
    "for_each_print(input_arr, dec)"
   ]
  },
  {
   "cell_type": "code",
   "execution_count": 19,
   "metadata": {},
   "outputs": [
    {
     "data": {
      "text/plain": [
       "[-3, 0, 1, 2, 5, 9]"
      ]
     },
     "execution_count": 19,
     "metadata": {},
     "output_type": "execute_result"
    }
   ],
   "source": [
    "input_arr = [-3, 1, 2, 0, 5, 9 ]\n",
    "sorted(input_arr)"
   ]
  },
  {
   "cell_type": "code",
   "execution_count": 16,
   "metadata": {},
   "outputs": [
    {
     "data": {
      "text/plain": [
       "[9, 5, 2, 1, 0, -3]"
      ]
     },
     "execution_count": 16,
     "metadata": {},
     "output_type": "execute_result"
    }
   ],
   "source": [
    "input_arr = [ -3, 1, 2, 0, 5, 9 ]\n",
    "input_arr = [ 3, -1, -2, -0, -5, -9]\n",
    "\n",
    "def desc(x):\n",
    "    return -x\n",
    "\n",
    "sorted(input_arr, key=desc)"
   ]
  },
  {
   "cell_type": "code",
   "execution_count": 19,
   "metadata": {},
   "outputs": [
    {
     "data": {
      "text/plain": [
       "[9, 5, -3, 2, 1, 0]"
      ]
     },
     "execution_count": 19,
     "metadata": {},
     "output_type": "execute_result"
    }
   ],
   "source": [
    "input_arr = [ -3, 1, 2, 0, 5, 9 ]\n",
    "\n",
    "def f(x):\n",
    "    return -1 * abs(x)\n",
    "\n",
    "sorted(input_arr, key=f)"
   ]
  },
  {
   "cell_type": "code",
   "execution_count": 28,
   "metadata": {},
   "outputs": [
    {
     "data": {
      "text/plain": [
       "[{'name': 'nancy', 'score': 80},\n",
       " {'name': 'louis', 'score': 95},\n",
       " {'name': 'bob', 'score': 100}]"
      ]
     },
     "execution_count": 28,
     "metadata": {},
     "output_type": "execute_result"
    }
   ],
   "source": [
    "data = [\n",
    "    {\n",
    "        \"name\": \"louis\",\n",
    "        \"score\": 95\n",
    "    },\n",
    "    {\n",
    "        \"name\": \"nancy\",\n",
    "        \"score\": 80,\n",
    "    },\n",
    "    {\n",
    "        \"name\": \"bob\",\n",
    "        \"score\": 100\n",
    "    },\n",
    "]\n",
    "\n",
    "f = lambda x: x[\"name\"]\n",
    "\n",
    "# score 키 기준으로 내림 차순 정렬 하기\n",
    "sorted(data, key=f, reverse=True)"
   ]
  },
  {
   "cell_type": "markdown",
   "metadata": {},
   "source": [
    "# 실습 "
   ]
  }
 ],
 "metadata": {
  "kernelspec": {
   "display_name": "Python 3 (ipykernel)",
   "language": "python",
   "name": "python3"
  },
  "language_info": {
   "codemirror_mode": {
    "name": "ipython",
    "version": 3
   },
   "file_extension": ".py",
   "mimetype": "text/x-python",
   "name": "python",
   "nbconvert_exporter": "python",
   "pygments_lexer": "ipython3",
   "version": "3.10.6"
  }
 },
 "nbformat": 4,
 "nbformat_minor": 4
}
