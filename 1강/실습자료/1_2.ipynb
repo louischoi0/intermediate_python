{
 "cells": [
  {
   "cell_type": "code",
   "execution_count": 15,
   "metadata": {},
   "outputs": [],
   "source": [
    "def for_each_print(input_arr, func):\n",
    "    result_arr = []\n",
    "    for element in intput_arr:\n",
    "        result = func(element)\n",
    "        result_arr.append(result)\n",
    "        print(result)\n",
    "    return result_arr"
   ]
  },
  {
   "cell_type": "code",
   "execution_count": 16,
   "metadata": {},
   "outputs": [
    {
     "name": "stdout",
     "output_type": "stream",
     "text": [
      "2\n",
      "4\n",
      "6\n",
      "8\n",
      "10\n"
     ]
    },
    {
     "data": {
      "text/plain": [
       "[2, 4, 6, 8, 10]"
      ]
     },
     "execution_count": 16,
     "metadata": {},
     "output_type": "execute_result"
    }
   ],
   "source": [
    "input_arr = [ 1,2,3,4,5 ]\n",
    "\n",
    "def double(x):\n",
    "    return x * 2\n",
    "\n",
    "for_each_print(input_arr, double)"
   ]
  },
  {
   "cell_type": "code",
   "execution_count": 17,
   "metadata": {},
   "outputs": [
    {
     "name": "stdout",
     "output_type": "stream",
     "text": [
      "0\n",
      "1\n",
      "2\n",
      "3\n",
      "4\n"
     ]
    },
    {
     "data": {
      "text/plain": [
       "[0, 1, 2, 3, 4]"
      ]
     },
     "execution_count": 17,
     "metadata": {},
     "output_type": "execute_result"
    }
   ],
   "source": [
    "input_arr = [ 1,2,3,4,5 ]\n",
    "\n",
    "def dec(x):\n",
    "    return x - 1\n",
    "\n",
    "for_each_print(input_arr, dec)"
   ]
  },
  {
   "cell_type": "code",
   "execution_count": 19,
   "metadata": {},
   "outputs": [
    {
     "data": {
      "text/plain": [
       "[-3, 0, 1, 2, 5, 9]"
      ]
     },
     "execution_count": 19,
     "metadata": {},
     "output_type": "execute_result"
    }
   ],
   "source": [
    "input_arr = [-3, 1, 2, 0, 5, 9 ]\n",
    "sorted(input_arr)"
   ]
  },
  {
   "cell_type": "code",
   "execution_count": 22,
   "metadata": {},
   "outputs": [
    {
     "data": {
      "text/plain": [
       "[9, 5, 2, 1, 0, -3]"
      ]
     },
     "execution_count": 22,
     "metadata": {},
     "output_type": "execute_result"
    }
   ],
   "source": [
    "input_arr = [ -3, 1, 2, 0, 5, 9 ]\n",
    "\n",
    "def desc(x):\n",
    "    return -x\n",
    "\n",
    "sorted(input_arr, key=desc)"
   ]
  },
  {
   "cell_type": "code",
   "execution_count": 23,
   "metadata": {},
   "outputs": [
    {
     "data": {
      "text/plain": [
       "[9, 5, -3, 2, 1, 0]"
      ]
     },
     "execution_count": 23,
     "metadata": {},
     "output_type": "execute_result"
    }
   ],
   "source": [
    "input_arr = [ -3, 1, 2, 0, 5, 9 ]\n",
    "\n",
    "sorted(input_arr, key=lambda x: -1 * abs(x))"
   ]
  },
  {
   "cell_type": "code",
   "execution_count": 25,
   "metadata": {},
   "outputs": [
    {
     "data": {
      "text/plain": [
       "[{'name': 'bob', 'score': 100},\n",
       " {'name': 'louis', 'score': 95},\n",
       " {'name': 'nancy', 'score': 80}]"
      ]
     },
     "execution_count": 25,
     "metadata": {},
     "output_type": "execute_result"
    }
   ],
   "source": [
    "data = [\n",
    "    {\n",
    "        \"name\": \"louis\",\n",
    "        \"score\": 95\n",
    "    },\n",
    "    {\n",
    "        \"name\": \"nancy\",\n",
    "        \"score\": 80,\n",
    "    },\n",
    "    {\n",
    "        \"name\": \"bob\",\n",
    "        \"score\": 100\n",
    "    },\n",
    "]\n",
    "\n",
    "# score 키 기준으로 내림 차순 정렬 하기\n",
    "sorted(data, key=lambda x: -x[\"score\"] * 1)\n"
   ]
  },
  {
   "cell_type": "code",
   "execution_count": null,
   "metadata": {},
   "outputs": [],
   "source": []
  }
 ],
 "metadata": {
  "kernelspec": {
   "display_name": "Python 3 (ipykernel)",
   "language": "python",
   "name": "python3"
  },
  "language_info": {
   "codemirror_mode": {
    "name": "ipython",
    "version": 3
   },
   "file_extension": ".py",
   "mimetype": "text/x-python",
   "name": "python",
   "nbconvert_exporter": "python",
   "pygments_lexer": "ipython3",
   "version": "3.8.9"
  }
 },
 "nbformat": 4,
 "nbformat_minor": 4
}
