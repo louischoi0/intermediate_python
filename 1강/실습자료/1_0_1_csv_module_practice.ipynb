{
 "cells": [
  {
   "cell_type": "markdown",
   "id": "c50049d4",
   "metadata": {},
   "source": [
    "# CSV 모듈을 사용하여 파일로 읽고 쓰기"
   ]
  },
  {
   "cell_type": "code",
   "execution_count": 31,
   "id": "25aeeccb",
   "metadata": {},
   "outputs": [
    {
     "name": "stdout",
     "output_type": "stream",
     "text": [
      "['1', '1교시', '함수란?']\n",
      "['2', '2교시', 'numpy 사용해 보기!']\n"
     ]
    }
   ],
   "source": [
    "import csv\n",
    " \n",
    "f = open('data.csv', 'r', encoding='utf-8')\n",
    "rdr = csv.reader(f)\n",
    "\n",
    "for line in rdr:\n",
    "    print(line)\n",
    "\n",
    "f.close()"
   ]
  },
  {
   "cell_type": "code",
   "execution_count": 32,
   "id": "4b0fe168",
   "metadata": {},
   "outputs": [],
   "source": [
    "import csv    \n",
    "\n",
    "f = open('output.csv', 'w', encoding='utf-8', newline='')\n",
    "wr = csv.writer(f)\n",
    "\n",
    "wr.writerow([1, \"1교시\", '함수란?'])\n",
    "wr.writerow([2, \"2교시\", 'numpy 사용해 보기!'])\n",
    "wr.writerow([3, \"3교시\",  'pandas 사용해 보기!!'])\n",
    "\n",
    "f.close()"
   ]
  },
  {
   "cell_type": "markdown",
   "id": "92b3ac70",
   "metadata": {},
   "source": [
    "# 구분자를 콤마(,) 대신 \\t로 사용하여 저장하기"
   ]
  },
  {
   "cell_type": "code",
   "execution_count": 33,
   "id": "41ab804c",
   "metadata": {},
   "outputs": [],
   "source": [
    "import csv    \n",
    "\n",
    "f = open('output_tab.csv', 'w', encoding='utf-8', newline='')\n",
    "wr = csv.writer(f, delimiter=\"\\t\")\n",
    "wr.writerow([1, \"1교시\", '함수란?'])\n",
    "wr.writerow([2, \"2교시\", 'numpy 사용해 보기!'])\n",
    "wr.writerow([3, \"3교시\",  'pandas 사용해 보기!!'])\n",
    "f.close()"
   ]
  },
  {
   "cell_type": "markdown",
   "id": "b943ace8",
   "metadata": {},
   "source": [
    "### 저장했을때 탭(\\t)으로 구분하여 저장했다면 읽을 때에도 delimter를 명시하여 준다. "
   ]
  },
  {
   "cell_type": "code",
   "execution_count": 34,
   "id": "7f0fcef9",
   "metadata": {},
   "outputs": [
    {
     "name": "stdout",
     "output_type": "stream",
     "text": [
      "['1', '1교시', '함수란?']\n",
      "['2', '2교시', 'numpy 사용해 보기!']\n",
      "['3', '3교시', 'pandas 사용해 보기!!']\n"
     ]
    }
   ],
   "source": [
    "import csv\n",
    " \n",
    "f = open('output_tab.csv', 'r', encoding='utf-8')\n",
    "rdr = csv.reader(f, delimiter=\"\\t\")\n",
    "for line in rdr:\n",
    "    print(line)\n",
    "f.close()"
   ]
  },
  {
   "cell_type": "markdown",
   "id": "7785d9ba",
   "metadata": {},
   "source": [
    "# Pickle 패키지를 이용하여 파이썬 오브젝트 파일로 저장하기"
   ]
  },
  {
   "cell_type": "code",
   "execution_count": 35,
   "id": "3b210c51",
   "metadata": {},
   "outputs": [],
   "source": [
    "import pickle\n",
    "\n",
    "my_list = ['a','b','c']\n",
    "\n",
    "with open(\"data.pickle\",\"wb\") as fw:\n",
    "    pickle.dump(my_list,fw)"
   ]
  },
  {
   "cell_type": "code",
   "execution_count": 37,
   "id": "54717349",
   "metadata": {},
   "outputs": [
    {
     "name": "stdout",
     "output_type": "stream",
     "text": [
      "['a', 'b', 'c']\n"
     ]
    }
   ],
   "source": [
    "import pickle\n",
    "\n",
    "with open(\"data.pickle\",\"rb\") as fr:\n",
    "    data = pickle.load(fr)\n",
    "    print(data)"
   ]
  },
  {
   "cell_type": "markdown",
   "id": "3e8bd557",
   "metadata": {},
   "source": [
    "## 실습 car0 인스턴스를 pickle로 저장하고 불러와 봅시다.\n",
    "---"
   ]
  },
  {
   "cell_type": "code",
   "execution_count": 38,
   "id": "a83d20ac",
   "metadata": {},
   "outputs": [],
   "source": [
    "class Car:\n",
    "    \n",
    "    wheel_num = 4\n",
    "    \n",
    "    def __init__(self, owner, color):\n",
    "        self.owner = owner\n",
    "        self.color = color\n",
    "\n",
    "import pickle\n",
    "\n",
    "car0 = Car('louis', 'blue')\n",
    "\n",
    "with open(\"car.pickle\",\"wb\") as fw:\n",
    "    pickle.dump(car0,fw)"
   ]
  },
  {
   "cell_type": "code",
   "execution_count": 39,
   "id": "bd9dd477",
   "metadata": {},
   "outputs": [
    {
     "name": "stdout",
     "output_type": "stream",
     "text": [
      "louis\n",
      "blue\n"
     ]
    }
   ],
   "source": [
    "with open(\"car.pickle\",\"rb\") as fr:\n",
    "    car0 = pickle.load(fr)\n",
    "    print(car0.owner)\n",
    "    print(car0.color)"
   ]
  },
  {
   "cell_type": "markdown",
   "id": "30df47e0",
   "metadata": {},
   "source": [
    "# Shallow copy와 Deep copy"
   ]
  },
  {
   "cell_type": "code",
   "execution_count": 23,
   "id": "09baf9ac",
   "metadata": {},
   "outputs": [
    {
     "data": {
      "text/plain": [
       "'hello'"
      ]
     },
     "execution_count": 23,
     "metadata": {},
     "output_type": "execute_result"
    }
   ],
   "source": [
    "a = \"hello\"\n",
    "b = a\n",
    "b = \"w\"\n",
    "a"
   ]
  },
  {
   "cell_type": "code",
   "execution_count": 24,
   "id": "d7107ee5",
   "metadata": {},
   "outputs": [
    {
     "data": {
      "text/plain": [
       "[-1, 2, 3]"
      ]
     },
     "execution_count": 24,
     "metadata": {},
     "output_type": "execute_result"
    }
   ],
   "source": [
    "a = [1,2,3]\n",
    "b = a\n",
    "b[0] = -1\n",
    "a"
   ]
  },
  {
   "cell_type": "code",
   "execution_count": 27,
   "id": "667a3245",
   "metadata": {},
   "outputs": [
    {
     "data": {
      "text/plain": [
       "'louis'"
      ]
     },
     "execution_count": 27,
     "metadata": {},
     "output_type": "execute_result"
    }
   ],
   "source": [
    "car1 = Car('nancy', 'blue')\n",
    "car2 = car1\n",
    "car2.owner = 'louis'\n",
    "car1.owner"
   ]
  }
 ],
 "metadata": {
  "kernelspec": {
   "display_name": "Python 3 (ipykernel)",
   "language": "python",
   "name": "python3"
  },
  "language_info": {
   "codemirror_mode": {
    "name": "ipython",
    "version": 3
   },
   "file_extension": ".py",
   "mimetype": "text/x-python",
   "name": "python",
   "nbconvert_exporter": "python",
   "pygments_lexer": "ipython3",
   "version": "3.10.6"
  }
 },
 "nbformat": 4,
 "nbformat_minor": 5
}
