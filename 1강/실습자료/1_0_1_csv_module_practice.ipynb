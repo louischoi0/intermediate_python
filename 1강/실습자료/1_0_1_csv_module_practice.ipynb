{
 "cells": [
  {
   "cell_type": "markdown",
   "id": "e361f83a",
   "metadata": {},
   "source": [
    "# CSV 모듈을 사용하여 파일로 읽고 쓰기"
   ]
  },
  {
   "cell_type": "code",
   "execution_count": 3,
   "id": "e350dbcb",
   "metadata": {},
   "outputs": [
    {
     "name": "stdout",
     "output_type": "stream",
     "text": [
      "['1', '1교시', '함수란?']\n",
      "['2', '2교시', 'numpy 사용해 보기!']\n"
     ]
    }
   ],
   "source": [
    "import csv\n",
    " \n",
    "f = open('data.csv', 'r', encoding='utf-8')\n",
    "rdr = csv.reader(f)\n",
    "for line in rdr:\n",
    "    print(line)\n",
    "f.close()"
   ]
  },
  {
   "cell_type": "code",
   "execution_count": 4,
   "id": "ed615acd",
   "metadata": {},
   "outputs": [],
   "source": [
    "import csv    \n",
    "\n",
    "f = open('output.csv', 'w', encoding='utf-8', newline='')\n",
    "wr = csv.writer(f)\n",
    "wr.writerow([1, \"1교시\", '함수란?'])\n",
    "wr.writerow([2, \"2교시\", 'numpy 사용해 보기!'])\n",
    "wr.writerow([3, \"3교시\",  'pandas 사용해 보기!!'])\n",
    "f.close()"
   ]
  },
  {
   "cell_type": "markdown",
   "id": "2b832fc8",
   "metadata": {},
   "source": [
    "# 구분자를 콤마(,) 대신 \\t로 사용하여 저장하기"
   ]
  },
  {
   "cell_type": "code",
   "execution_count": 7,
   "id": "b73dc394",
   "metadata": {},
   "outputs": [],
   "source": [
    "import csv    \n",
    "\n",
    "f = open('output_tab.csv', 'w', encoding='utf-8', newline='')\n",
    "wr = csv.writer(f, delimiter=\"\\t\")\n",
    "wr.writerow([1, \"1교시\", '함수란?'])\n",
    "wr.writerow([2, \"2교시\", 'numpy 사용해 보기!'])\n",
    "wr.writerow([3, \"3교시\",  'pandas 사용해 보기!!'])\n",
    "f.close()"
   ]
  },
  {
   "cell_type": "markdown",
   "id": "b76cf597",
   "metadata": {},
   "source": [
    "### 저장했을때 탭(\\t)으로 구분하여 저장했다면 읽을 때에도 delimter를 명시하여 준다. "
   ]
  },
  {
   "cell_type": "code",
   "execution_count": 11,
   "id": "63f08762",
   "metadata": {},
   "outputs": [
    {
     "name": "stdout",
     "output_type": "stream",
     "text": [
      "['1', '1교시', '함수란?']\n",
      "['2', '2교시', 'numpy 사용해 보기!']\n",
      "['3', '3교시', 'pandas 사용해 보기!!']\n"
     ]
    }
   ],
   "source": [
    "import csv\n",
    " \n",
    "f = open('output_tab.csv', 'r', encoding='utf-8')\n",
    "rdr = csv.reader(f, delimiter=\"\\t\")\n",
    "for line in rdr:\n",
    "    print(line)\n",
    "f.close()"
   ]
  }
 ],
 "metadata": {
  "kernelspec": {
   "display_name": "Python 3 (ipykernel)",
   "language": "python",
   "name": "python3"
  },
  "language_info": {
   "codemirror_mode": {
    "name": "ipython",
    "version": 3
   },
   "file_extension": ".py",
   "mimetype": "text/x-python",
   "name": "python",
   "nbconvert_exporter": "python",
   "pygments_lexer": "ipython3",
   "version": "3.8.9"
  }
 },
 "nbformat": 4,
 "nbformat_minor": 5
}
