{
 "cells": [
  {
   "cell_type": "code",
   "execution_count": 6,
   "metadata": {},
   "outputs": [],
   "source": [
    "class Car:\n",
    "    wheel_num = 4\n",
    "    \n",
    "    def __init__(self, owner, color):\n",
    "        print(f\"{owner}`s car is being created\")\n",
    "        self.owner = owner\n",
    "        self.color = color\n",
    "        \n",
    "    def give_ownership(self, recipient):\n",
    "        self.owner = recipient\n",
    "    \n",
    "    def print_owner(self):\n",
    "        print(f\"this car is owned by {self.owner}\")\n",
    "    \n",
    "    "
   ]
  },
  {
   "cell_type": "code",
   "execution_count": 7,
   "metadata": {},
   "outputs": [
    {
     "name": "stdout",
     "output_type": "stream",
     "text": [
      "louis`s car is being created\n",
      "nancy`s car is being created\n"
     ]
    }
   ],
   "source": [
    "car0 = Car('louis', 'black')\n",
    "car1 = Car('nancy', 'blue')"
   ]
  },
  {
   "cell_type": "code",
   "execution_count": 8,
   "metadata": {},
   "outputs": [
    {
     "name": "stdout",
     "output_type": "stream",
     "text": [
      "louis\n",
      "blue\n"
     ]
    }
   ],
   "source": [
    "print(car0.owner)\n",
    "print(car1.color)"
   ]
  },
  {
   "cell_type": "code",
   "execution_count": 9,
   "metadata": {},
   "outputs": [
    {
     "name": "stdout",
     "output_type": "stream",
     "text": [
      "louis`s car is being created\n",
      "this car is owned by bob\n"
     ]
    }
   ],
   "source": [
    "car0 = Car('louis', 'black')\n",
    "car0.give_ownership('bob')\n",
    "car0.print_owner()"
   ]
  },
  {
   "cell_type": "code",
   "execution_count": null,
   "metadata": {},
   "outputs": [],
   "source": [
    "print(car)"
   ]
  }
 ],
 "metadata": {
  "kernelspec": {
   "display_name": "Python 3",
   "language": "python",
   "name": "python3"
  },
  "language_info": {
   "codemirror_mode": {
    "name": "ipython",
    "version": 3
   },
   "file_extension": ".py",
   "mimetype": "text/x-python",
   "name": "python",
   "nbconvert_exporter": "python",
   "pygments_lexer": "ipython3",
   "version": "3.8.5"
  }
 },
 "nbformat": 4,
 "nbformat_minor": 4
}
