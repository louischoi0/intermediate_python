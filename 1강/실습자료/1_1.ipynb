{
 "cells": [
  {
   "cell_type": "code",
   "execution_count": 40,
   "metadata": {},
   "outputs": [
    {
     "name": "stdout",
     "output_type": "stream",
     "text": [
      "louis`s car is being created.\n",
      "nancy`s car is being created.\n"
     ]
    }
   ],
   "source": [
    "car0 = Car('louis', 'black')\n",
    "car1 = Car('nancy', 'blue')"
   ]
  },
  {
   "cell_type": "code",
   "execution_count": 41,
   "metadata": {},
   "outputs": [
    {
     "name": "stdout",
     "output_type": "stream",
     "text": [
      "louis\n",
      "blue\n"
     ]
    }
   ],
   "source": [
    "print(car0.owner)\n",
    "print(car1.color)"
   ]
  },
  {
   "cell_type": "code",
   "execution_count": 45,
   "metadata": {},
   "outputs": [],
   "source": [
    "car0.moveTo(10)"
   ]
  },
  {
   "cell_type": "code",
   "execution_count": 46,
   "metadata": {},
   "outputs": [
    {
     "data": {
      "text/plain": [
       "10"
      ]
     },
     "execution_count": 46,
     "metadata": {},
     "output_type": "execute_result"
    }
   ],
   "source": [
    "car0.location"
   ]
  },
  {
   "cell_type": "code",
   "execution_count": 47,
   "metadata": {},
   "outputs": [
    {
     "data": {
      "text/plain": [
       "40"
      ]
     },
     "execution_count": 47,
     "metadata": {},
     "output_type": "execute_result"
    }
   ],
   "source": [
    "car0.gauge"
   ]
  },
  {
   "cell_type": "code",
   "execution_count": null,
   "metadata": {},
   "outputs": [],
   "source": [
    "print(car0.gauge)"
   ]
  },
  {
   "cell_type": "code",
   "execution_count": 6,
   "metadata": {},
   "outputs": [
    {
     "name": "stdout",
     "output_type": "stream",
     "text": [
      "louis`s car is being created\n"
     ]
    },
    {
     "ename": "AttributeError",
     "evalue": "'Car' object has no attribute 'gauge'",
     "output_type": "error",
     "traceback": [
      "\u001b[1;31m---------------------------------------------------------------------------\u001b[0m",
      "\u001b[1;31mAttributeError\u001b[0m                            Traceback (most recent call last)",
      "Input \u001b[1;32mIn [6]\u001b[0m, in \u001b[0;36m<cell line: 29>\u001b[1;34m()\u001b[0m\n\u001b[0;32m     27\u001b[0m car0 \u001b[38;5;241m=\u001b[39m Car(\u001b[38;5;124m'\u001b[39m\u001b[38;5;124mlouis\u001b[39m\u001b[38;5;124m'\u001b[39m,\u001b[38;5;124m'\u001b[39m\u001b[38;5;124mblack\u001b[39m\u001b[38;5;124m'\u001b[39m)\n\u001b[0;32m     28\u001b[0m car0\u001b[38;5;241m.\u001b[39mfill_gasoline(\u001b[38;5;241m10\u001b[39m)\n\u001b[1;32m---> 29\u001b[0m \u001b[43mcar0\u001b[49m\u001b[38;5;241;43m.\u001b[39;49m\u001b[43mgauge\u001b[49m\n",
      "\u001b[1;31mAttributeError\u001b[0m: 'Car' object has no attribute 'gauge'"
     ]
    }
   ],
   "source": [
    "class Car:\n",
    "    wheel_num = 4\n",
    "    max_gasoline = 250\n",
    "    \n",
    "    def __init__(self, owner, color):\n",
    "        \n",
    "        print(f\"{owner}`s car is being created\")\n",
    "        \n",
    "        self.owner = owner\n",
    "        self.color = color\n",
    "        \n",
    "        self.gague = 50\n",
    "        \n",
    "    def give_ownership(self, recipient):\n",
    "        self.owner = recipient\n",
    "    \n",
    "    def print_owner(self):\n",
    "        print(f\"this car is owned byg{self.owner}\")\n",
    "    \n",
    "    def fill_gasoline(self, quantity):\n",
    "        \n",
    "        if self.gague + quantity > Car.max_gasoline:\n",
    "            print(\"execeeded gasoline max quantity.\")\n",
    "        else:\n",
    "            self.gague += quantity\n",
    "            \n",
    "car0 = Car('louis','black')\n",
    "car0.fill_gasoline(10)\n",
    "car0.gauge\n",
    "        "
   ]
  }
 ],
 "metadata": {
  "kernelspec": {
   "display_name": "Python 3 (ipykernel)",
   "language": "python",
   "name": "python3"
  },
  "language_info": {
   "codemirror_mode": {
    "name": "ipython",
    "version": 3
   },
   "file_extension": ".py",
   "mimetype": "text/x-python",
   "name": "python",
   "nbconvert_exporter": "python",
   "pygments_lexer": "ipython3",
   "version": "3.10.6"
  }
 },
 "nbformat": 4,
 "nbformat_minor": 4
}
