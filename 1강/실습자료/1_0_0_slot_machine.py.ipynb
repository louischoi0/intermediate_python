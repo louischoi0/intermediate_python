{
 "cells": [
  {
   "cell_type": "markdown",
   "id": "62415a62",
   "metadata": {},
   "source": [
    "# Random 패키지를 이용한 슬롯머신 프로그램 만들기 실습\n",
    "---\n",
    "\n",
    "직장인 최모씨는 카지노에 방문했습니다. 그는 슬롯머신에 빠져 들었는데요.  \n",
    "슬롯머신은 아래와 같이 작동합니다.  \n",
    "\n",
    "\n",
    "한번 하는데 1000원 입니다.\n",
    "\n",
    "- 30% 확률로 3500원을 돌려 줍니다.\n",
    "- 60% 확률로 꽝입니다. - 5000\n",
    "- 10% 확률로 8000원을 돌려 줍니다.\n",
    "- y를 입력하고 엔터를 누르면 베팅합니다.\n",
    "- n을 입력하고 엔터를 누르면 남은 돈을 가지고 집으로 갑니다.\n",
    "\n",
    "\n",
    "최모씨가 파산 할때까지 즐길 수 있는 슬롯머신 프로그램을 만들어 봅시다.  "
   ]
  },
  {
   "cell_type": "code",
   "execution_count": 3,
   "id": "311e49f2",
   "metadata": {},
   "outputs": [
    {
     "name": "stdout",
     "output_type": "stream",
     "text": [
      "y\n",
      "y\n"
     ]
    }
   ],
   "source": [
    "yn = input() # 유저의 입력값을 받을 때에는 INPUT 함수를 활용합니다.\n",
    "print(yn)"
   ]
  },
  {
   "cell_type": "code",
   "execution_count": null,
   "id": "a6066b49",
   "metadata": {},
   "outputs": [],
   "source": []
  },
  {
   "cell_type": "code",
   "execution_count": null,
   "id": "33f249c1",
   "metadata": {},
   "outputs": [],
   "source": []
  },
  {
   "cell_type": "code",
   "execution_count": null,
   "id": "5976f088",
   "metadata": {},
   "outputs": [],
   "source": []
  },
  {
   "cell_type": "code",
   "execution_count": null,
   "id": "3ad9587f",
   "metadata": {},
   "outputs": [],
   "source": []
  },
  {
   "cell_type": "code",
   "execution_count": null,
   "id": "93fa92ea",
   "metadata": {},
   "outputs": [],
   "source": []
  },
  {
   "cell_type": "code",
   "execution_count": null,
   "id": "14cec7c9",
   "metadata": {},
   "outputs": [],
   "source": []
  },
  {
   "cell_type": "code",
   "execution_count": 10,
   "id": "8ddf9e46",
   "metadata": {},
   "outputs": [
    {
     "name": "stdout",
     "output_type": "stream",
     "text": [
      "y\n",
      "Lucky number is 96\n",
      "I got 8,000!, balance : 17000\n",
      "y\n",
      "Lucky number is 16\n",
      "I got 3,500!, balance : 19500\n",
      "n\n",
      "Leave casino with 19500.\n"
     ]
    }
   ],
   "source": [
    "from random import randint\n",
    "\n",
    "myBalance = 10000\n",
    "my_balance = 10000\n",
    "\n",
    "while balance > 1000 :\n",
    "    \n",
    "    choice = input()\n",
    "    \n",
    "    if choice == \"n\":\n",
    "        print(f\"Leave casino with {balance}.\")\n",
    "        break\n",
    "    \n",
    "    elif choice == \"y\":\n",
    "        pass\n",
    "    \n",
    "    else:\n",
    "        print(\"wrong input.\")\n",
    "        continue\n",
    "        \n",
    "    balance -= 1000\n",
    "    \n",
    "    i = randint(0, 100)\n",
    "    \n",
    "    print(f\"Lucky number is {i}\")\n",
    "    \n",
    "    if i < 30:\n",
    "        balance += 3500\n",
    "        print(f\"I got 3,500!, balance : {balance}\")\n",
    "        \n",
    "    elif i >= 30 and i < 90:\n",
    "        balance -= 5000\n",
    "        print(f\"꽝!, balance : {balance}\")\n",
    "        continue\n",
    "    \n",
    "    elif i >= 90:\n",
    "        balance += 8000\n",
    "        print(f\"I got 8,000!, balance : {balance}\")\n",
    "\n",
    "        "
   ]
  }
 ],
 "metadata": {
  "kernelspec": {
   "display_name": "Python 3 (ipykernel)",
   "language": "python",
   "name": "python3"
  },
  "language_info": {
   "codemirror_mode": {
    "name": "ipython",
    "version": 3
   },
   "file_extension": ".py",
   "mimetype": "text/x-python",
   "name": "python",
   "nbconvert_exporter": "python",
   "pygments_lexer": "ipython3",
   "version": "3.10.6"
  }
 },
 "nbformat": 4,
 "nbformat_minor": 5
}
